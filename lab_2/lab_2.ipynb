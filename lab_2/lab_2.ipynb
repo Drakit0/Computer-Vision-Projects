{
 "cells": [
  {
   "cell_type": "markdown",
   "metadata": {},
   "source": [
    "# **Sesión 2:** Procesamiento de Imágenes ⚙️🖼️"
   ]
  },
  {
   "cell_type": "markdown",
   "metadata": {},
   "source": [
    "## **Instalaciones**"
   ]
  },
  {
   "cell_type": "code",
   "execution_count": 15,
   "metadata": {},
   "outputs": [],
   "source": [
    "# !pip install scikit-image"
   ]
  },
  {
   "cell_type": "markdown",
   "metadata": {},
   "source": [
    "## **Librerías**"
   ]
  },
  {
   "cell_type": "code",
   "execution_count": 16,
   "metadata": {},
   "outputs": [],
   "source": [
    "import os\n",
    "import cv2\n",
    "import glob\n",
    "import imageio\n",
    "import numpy as np\n",
    "import skimage as ski\n",
    "from typing import List\n",
    "from utils import non_max_suppression, get_hsv_color_ranges"
   ]
  },
  {
   "cell_type": "markdown",
   "metadata": {},
   "source": [
    "## **Apartado A: Segmentación por color**"
   ]
  },
  {
   "cell_type": "markdown",
   "metadata": {},
   "source": [
    "El objetivo de este apartado es segmentar los colores naranja y blanco de las imágenes en la carpeta ``data``.\n",
    "\n",
    "1. **Tarea A.1**. Defina y ejecute el método para cargar imágenes ``load_imgs()``.\n",
    "2. **Tarea A.2.** Defina los métodos ``show_image()`` y ``write_image()`` para visualizar y guardar imágenes.\n",
    "3. **Tarea A.3.** Cambia el espacio de color de las imágenes a uno donde la crominancia y la intensidad estén separados (HSV).\n",
    "4. **Tarea A.4.** Segmenta los colores anaranjados.\n",
    "5. **Tarea A.5.** Segmenta los colores blancos.\n",
    "6. **Tarea A.6.** Junta las máscaras para cada imagen (naranja + blanco) y segmenta cada una de ellas.\n",
    "7. **Tarea A.7.** Guarda las imágenes."
   ]
  },
  {
   "cell_type": "markdown",
   "metadata": {},
   "source": [
    "### **Tarea A.1:** Defina y ejecute el método para cargar imágenes ``load_images()``"
   ]
  },
  {
   "cell_type": "code",
   "execution_count": 17,
   "metadata": {},
   "outputs": [],
   "source": [
    "def load_images(filenames: List) -> List:\n",
    "    return [cv2.imread(filename) for filename in filenames]"
   ]
  },
  {
   "cell_type": "code",
   "execution_count": 18,
   "metadata": {},
   "outputs": [],
   "source": [
    "# TODO Build a list containing the paths of all images in the data folder\n",
    "imgs_path = [path for path in glob.glob( \"data/*jpg\" )]\n",
    "imgs = load_images(imgs_path)"
   ]
  },
  {
   "cell_type": "markdown",
   "metadata": {},
   "source": [
    "### **Tarea A.2**. Defina los métodos ``show_image()`` y ``write_image()`` para visualizar y guardar imágenes"
   ]
  },
  {
   "cell_type": "code",
   "execution_count": 19,
   "metadata": {},
   "outputs": [],
   "source": [
    "# TODO Complete the method, use every argument\n",
    "def show_image(img: np.array, img_name: str = \"Image\"):\n",
    "    cv2.imshow(img_name, img)\n",
    "    cv2.waitKey(0)\n",
    "    cv2.destroyAllWindows()\n",
    "    \n",
    "# TODO Complete the method, use every argument\n",
    "def write_image(output_folder: str, img_name: str, img: np.array):\n",
    "    img_path = os.path.join(output_folder, img_name)\n",
    "    cv2.imwrite(img_path, img)"
   ]
  },
  {
   "cell_type": "markdown",
   "metadata": {},
   "source": [
    "### **Tarea A.3:** Cambie el espacio de color de las imágenes a uno donde la crominancia y la intensidad estén separados (HSV)"
   ]
  },
  {
   "cell_type": "code",
   "execution_count": 20,
   "metadata": {},
   "outputs": [],
   "source": [
    "# TODO Get a list with ìmgs in HSV color space\n",
    "hsv_imgs = [cv2.cvtColor(img, cv2.COLOR_BGR2HSV) for img in imgs]\n",
    "\n",
    "# [show_image(img) for img in hsv_imgs]"
   ]
  },
  {
   "cell_type": "markdown",
   "metadata": {},
   "source": [
    "### **Tarea A.4:** Segmente los colores anaranjados"
   ]
  },
  {
   "cell_type": "code",
   "execution_count": null,
   "metadata": {},
   "outputs": [],
   "source": [
    "# TODO Define orange color range\n",
    "light_orange = (1, 190, 200)\n",
    "dark_orange = (255, 255, 255)\n",
    "\n",
    "# TODO Compute a list that contains a mask (which should segment orange colors) for every image.\n",
    "orange_masks = [cv2.inRange(img, light_orange, dark_orange) for img in hsv_imgs]\n",
    "\n",
    "# TODO Compute a list that contains the result of multiplying the original image with its orange colors mask.\n",
    "orange_segmented = [cv2.bitwise_and(img, img, mask = mask) for img,mask in zip(imgs, orange_masks)]\n",
    "\n",
    "# TODO Show an original image\n",
    "# [show_image(img) for img in imgs]\n",
    "\n",
    "# TODO Show a mask\n",
    "# [show_image(mask) for mask in orange_masks]\n",
    "\n",
    "# TODO Show a segmented image\n",
    "# [show_image(img) for img in orange_segmented]\n",
    "\n",
    "# cv2.destroyAllWindows()\n"
   ]
  },
  {
   "cell_type": "markdown",
   "metadata": {},
   "source": [
    "### **Tarea A.5:** Segmente los colores blancos."
   ]
  },
  {
   "cell_type": "markdown",
   "metadata": {},
   "source": [
    "Para detectar el rango de blancos complete la siguiente celda y ejecutela para investigar el rango de valores necesarios."
   ]
  },
  {
   "cell_type": "code",
   "execution_count": null,
   "metadata": {},
   "outputs": [
    {
     "name": "stdout",
     "output_type": "stream",
     "text": [
      "(hMin = 0 , sMin = 0, vMin = 0), (hMax = 255 , sMax = 255, vMax = 255)\n",
      "(hMin = 0 , sMin = 0, vMin = 2), (hMax = 255 , sMax = 255, vMax = 255)\n",
      "(hMin = 0 , sMin = 0, vMin = 11), (hMax = 255 , sMax = 255, vMax = 255)\n",
      "(hMin = 0 , sMin = 0, vMin = 15), (hMax = 255 , sMax = 255, vMax = 255)\n",
      "(hMin = 0 , sMin = 0, vMin = 26), (hMax = 255 , sMax = 255, vMax = 255)\n",
      "(hMin = 0 , sMin = 0, vMin = 43), (hMax = 255 , sMax = 255, vMax = 255)\n",
      "(hMin = 0 , sMin = 0, vMin = 54), (hMax = 255 , sMax = 255, vMax = 255)\n",
      "(hMin = 0 , sMin = 0, vMin = 63), (hMax = 255 , sMax = 255, vMax = 255)\n",
      "(hMin = 0 , sMin = 0, vMin = 65), (hMax = 255 , sMax = 255, vMax = 255)\n",
      "(hMin = 0 , sMin = 0, vMin = 73), (hMax = 255 , sMax = 255, vMax = 255)\n",
      "(hMin = 0 , sMin = 0, vMin = 80), (hMax = 255 , sMax = 255, vMax = 255)\n",
      "(hMin = 0 , sMin = 0, vMin = 82), (hMax = 255 , sMax = 255, vMax = 255)\n",
      "(hMin = 0 , sMin = 0, vMin = 86), (hMax = 255 , sMax = 255, vMax = 255)\n",
      "(hMin = 0 , sMin = 0, vMin = 89), (hMax = 255 , sMax = 255, vMax = 255)\n",
      "(hMin = 0 , sMin = 0, vMin = 93), (hMax = 255 , sMax = 255, vMax = 255)\n",
      "(hMin = 0 , sMin = 0, vMin = 99), (hMax = 255 , sMax = 255, vMax = 255)\n",
      "(hMin = 0 , sMin = 0, vMin = 102), (hMax = 255 , sMax = 255, vMax = 255)\n",
      "(hMin = 0 , sMin = 0, vMin = 104), (hMax = 255 , sMax = 255, vMax = 255)\n",
      "(hMin = 0 , sMin = 0, vMin = 106), (hMax = 255 , sMax = 255, vMax = 255)\n",
      "(hMin = 0 , sMin = 0, vMin = 112), (hMax = 255 , sMax = 255, vMax = 255)\n",
      "(hMin = 0 , sMin = 0, vMin = 117), (hMax = 255 , sMax = 255, vMax = 255)\n",
      "(hMin = 0 , sMin = 0, vMin = 123), (hMax = 255 , sMax = 255, vMax = 255)\n",
      "(hMin = 0 , sMin = 0, vMin = 128), (hMax = 255 , sMax = 255, vMax = 255)\n",
      "(hMin = 0 , sMin = 0, vMin = 132), (hMax = 255 , sMax = 255, vMax = 255)\n",
      "(hMin = 0 , sMin = 0, vMin = 138), (hMax = 255 , sMax = 255, vMax = 255)\n",
      "(hMin = 0 , sMin = 0, vMin = 145), (hMax = 255 , sMax = 255, vMax = 255)\n",
      "(hMin = 0 , sMin = 0, vMin = 149), (hMax = 255 , sMax = 255, vMax = 255)\n",
      "(hMin = 0 , sMin = 0, vMin = 151), (hMax = 255 , sMax = 255, vMax = 255)\n",
      "(hMin = 0 , sMin = 0, vMin = 153), (hMax = 255 , sMax = 255, vMax = 255)\n",
      "(hMin = 0 , sMin = 0, vMin = 149), (hMax = 255 , sMax = 255, vMax = 255)\n",
      "(hMin = 0 , sMin = 0, vMin = 147), (hMax = 255 , sMax = 255, vMax = 255)\n",
      "(hMin = 0 , sMin = 0, vMin = 145), (hMax = 255 , sMax = 255, vMax = 255)\n",
      "(hMin = 0 , sMin = 0, vMin = 143), (hMax = 255 , sMax = 255, vMax = 255)\n",
      "(hMin = 0 , sMin = 0, vMin = 140), (hMax = 255 , sMax = 255, vMax = 255)\n",
      "(hMin = 0 , sMin = 0, vMin = 143), (hMax = 255 , sMax = 255, vMax = 255)\n",
      "(hMin = 0 , sMin = 0, vMin = 145), (hMax = 255 , sMax = 255, vMax = 255)\n",
      "(hMin = 0 , sMin = 0, vMin = 149), (hMax = 255 , sMax = 255, vMax = 255)\n",
      "(hMin = 0 , sMin = 0, vMin = 150), (hMax = 255 , sMax = 255, vMax = 255)\n",
      "(hMin = 0 , sMin = 0, vMin = 86), (hMax = 255 , sMax = 255, vMax = 255)\n",
      "(hMin = 0 , sMin = 0, vMin = 63), (hMax = 255 , sMax = 255, vMax = 255)\n",
      "(hMin = 0 , sMin = 0, vMin = 41), (hMax = 255 , sMax = 255, vMax = 255)\n",
      "(hMin = 0 , sMin = 0, vMin = 17), (hMax = 255 , sMax = 255, vMax = 255)\n",
      "(hMin = 0 , sMin = 0, vMin = 0), (hMax = 255 , sMax = 255, vMax = 255)\n",
      "(hMin = 0 , sMin = 0, vMin = 4), (hMax = 255 , sMax = 255, vMax = 255)\n",
      "(hMin = 0 , sMin = 0, vMin = 19), (hMax = 255 , sMax = 255, vMax = 255)\n",
      "(hMin = 0 , sMin = 0, vMin = 37), (hMax = 255 , sMax = 255, vMax = 255)\n",
      "(hMin = 0 , sMin = 0, vMin = 52), (hMax = 255 , sMax = 255, vMax = 255)\n",
      "(hMin = 0 , sMin = 0, vMin = 63), (hMax = 255 , sMax = 255, vMax = 255)\n",
      "(hMin = 0 , sMin = 0, vMin = 67), (hMax = 255 , sMax = 255, vMax = 255)\n",
      "(hMin = 0 , sMin = 0, vMin = 71), (hMax = 255 , sMax = 255, vMax = 255)\n",
      "(hMin = 0 , sMin = 0, vMin = 78), (hMax = 255 , sMax = 255, vMax = 255)\n",
      "(hMin = 0 , sMin = 0, vMin = 86), (hMax = 255 , sMax = 255, vMax = 255)\n",
      "(hMin = 0 , sMin = 0, vMin = 89), (hMax = 255 , sMax = 255, vMax = 255)\n",
      "(hMin = 0 , sMin = 0, vMin = 95), (hMax = 255 , sMax = 255, vMax = 255)\n",
      "(hMin = 0 , sMin = 0, vMin = 99), (hMax = 255 , sMax = 255, vMax = 255)\n",
      "(hMin = 0 , sMin = 0, vMin = 104), (hMax = 255 , sMax = 255, vMax = 255)\n",
      "(hMin = 0 , sMin = 0, vMin = 108), (hMax = 255 , sMax = 255, vMax = 255)\n",
      "(hMin = 0 , sMin = 0, vMin = 117), (hMax = 255 , sMax = 255, vMax = 255)\n",
      "(hMin = 0 , sMin = 0, vMin = 123), (hMax = 255 , sMax = 255, vMax = 255)\n",
      "(hMin = 0 , sMin = 0, vMin = 128), (hMax = 255 , sMax = 255, vMax = 255)\n",
      "(hMin = 0 , sMin = 0, vMin = 132), (hMax = 255 , sMax = 255, vMax = 255)\n",
      "(hMin = 0 , sMin = 0, vMin = 136), (hMax = 255 , sMax = 255, vMax = 255)\n",
      "(hMin = 0 , sMin = 0, vMin = 140), (hMax = 255 , sMax = 255, vMax = 255)\n",
      "(hMin = 0 , sMin = 0, vMin = 143), (hMax = 255 , sMax = 255, vMax = 255)\n",
      "(hMin = 0 , sMin = 0, vMin = 145), (hMax = 255 , sMax = 255, vMax = 255)\n",
      "(hMin = 0 , sMin = 0, vMin = 149), (hMax = 255 , sMax = 255, vMax = 255)\n",
      "(hMin = 0 , sMin = 0, vMin = 153), (hMax = 255 , sMax = 255, vMax = 255)\n",
      "(hMin = 0 , sMin = 0, vMin = 156), (hMax = 255 , sMax = 255, vMax = 255)\n",
      "(hMin = 0 , sMin = 0, vMin = 158), (hMax = 255 , sMax = 255, vMax = 255)\n",
      "(hMin = 0 , sMin = 0, vMin = 156), (hMax = 255 , sMax = 255, vMax = 255)\n",
      "(hMin = 0 , sMin = 0, vMin = 149), (hMax = 255 , sMax = 255, vMax = 255)\n",
      "(hMin = 0 , sMin = 0, vMin = 147), (hMax = 255 , sMax = 255, vMax = 255)\n",
      "(hMin = 0 , sMin = 0, vMin = 149), (hMax = 255 , sMax = 255, vMax = 255)\n",
      "(hMin = 0 , sMin = 0, vMin = 151), (hMax = 255 , sMax = 255, vMax = 255)\n",
      "(hMin = 0 , sMin = 0, vMin = 153), (hMax = 255 , sMax = 255, vMax = 255)\n",
      "(hMin = 0 , sMin = 0, vMin = 149), (hMax = 255 , sMax = 255, vMax = 255)\n",
      "(hMin = 0 , sMin = 0, vMin = 150), (hMax = 255 , sMax = 255, vMax = 255)\n",
      "(hMin = 0 , sMin = 0, vMin = 150), (hMax = 255 , sMax = 240, vMax = 255)\n",
      "(hMin = 0 , sMin = 0, vMin = 150), (hMax = 255 , sMax = 173, vMax = 255)\n",
      "(hMin = 0 , sMin = 0, vMin = 150), (hMax = 255 , sMax = 99, vMax = 255)\n",
      "(hMin = 0 , sMin = 0, vMin = 150), (hMax = 255 , sMax = 48, vMax = 255)\n",
      "(hMin = 0 , sMin = 0, vMin = 150), (hMax = 255 , sMax = 32, vMax = 255)\n",
      "(hMin = 0 , sMin = 0, vMin = 150), (hMax = 255 , sMax = 39, vMax = 255)\n",
      "(hMin = 0 , sMin = 0, vMin = 150), (hMax = 255 , sMax = 43, vMax = 255)\n",
      "(hMin = 0 , sMin = 0, vMin = 150), (hMax = 255 , sMax = 48, vMax = 255)\n",
      "(hMin = 0 , sMin = 0, vMin = 150), (hMax = 255 , sMax = 52, vMax = 255)\n",
      "(hMin = 0 , sMin = 0, vMin = 150), (hMax = 255 , sMax = 54, vMax = 255)\n",
      "(hMin = 0 , sMin = 0, vMin = 150), (hMax = 255 , sMax = 56, vMax = 255)\n",
      "(hMin = 0 , sMin = 0, vMin = 150), (hMax = 255 , sMax = 58, vMax = 255)\n",
      "(hMin = 0 , sMin = 0, vMin = 150), (hMax = 255 , sMax = 61, vMax = 255)\n",
      "(hMin = 0 , sMin = 0, vMin = 150), (hMax = 255 , sMax = 63, vMax = 255)\n",
      "(hMin = 0 , sMin = 0, vMin = 150), (hMax = 255 , sMax = 65, vMax = 255)\n",
      "(hMin = 0 , sMin = 0, vMin = 150), (hMax = 255 , sMax = 67, vMax = 255)\n",
      "(hMin = 0 , sMin = 0, vMin = 150), (hMax = 255 , sMax = 69, vMax = 255)\n",
      "(hMin = 0 , sMin = 0, vMin = 150), (hMax = 255 , sMax = 71, vMax = 255)\n",
      "(hMin = 0 , sMin = 0, vMin = 150), (hMax = 255 , sMax = 76, vMax = 255)\n",
      "(hMin = 0 , sMin = 0, vMin = 150), (hMax = 255 , sMax = 78, vMax = 255)\n",
      "(hMin = 0 , sMin = 0, vMin = 150), (hMax = 255 , sMax = 76, vMax = 255)\n",
      "(hMin = 0 , sMin = 0, vMin = 150), (hMax = 255 , sMax = 73, vMax = 255)\n",
      "(hMin = 0 , sMin = 0, vMin = 150), (hMax = 255 , sMax = 71, vMax = 255)\n",
      "(hMin = 0 , sMin = 0, vMin = 150), (hMax = 255 , sMax = 69, vMax = 255)\n",
      "(hMin = 0 , sMin = 0, vMin = 150), (hMax = 255 , sMax = 71, vMax = 255)\n",
      "(hMin = 0 , sMin = 0, vMin = 150), (hMax = 255 , sMax = 73, vMax = 255)\n",
      "(hMin = 0 , sMin = 0, vMin = 150), (hMax = 255 , sMax = 76, vMax = 255)\n",
      "(hMin = 0 , sMin = 0, vMin = 150), (hMax = 255 , sMax = 73, vMax = 255)\n",
      "(hMin = 0 , sMin = 0, vMin = 150), (hMax = 255 , sMax = 71, vMax = 255)\n",
      "(hMin = 0 , sMin = 0, vMin = 150), (hMax = 255 , sMax = 69, vMax = 255)\n",
      "(hMin = 0 , sMin = 0, vMin = 150), (hMax = 255 , sMax = 67, vMax = 255)\n",
      "(hMin = 0 , sMin = 0, vMin = 150), (hMax = 255 , sMax = 65, vMax = 255)\n",
      "(hMin = 0 , sMin = 0, vMin = 150), (hMax = 255 , sMax = 63, vMax = 255)\n",
      "(hMin = 0 , sMin = 0, vMin = 150), (hMax = 255 , sMax = 61, vMax = 255)\n",
      "(hMin = 0 , sMin = 0, vMin = 150), (hMax = 255 , sMax = 58, vMax = 255)\n",
      "(hMin = 0 , sMin = 0, vMin = 150), (hMax = 255 , sMax = 56, vMax = 255)\n",
      "(hMin = 0 , sMin = 0, vMin = 150), (hMax = 255 , sMax = 54, vMax = 255)\n",
      "(hMin = 0 , sMin = 0, vMin = 150), (hMax = 255 , sMax = 52, vMax = 255)\n",
      "(hMin = 0 , sMin = 0, vMin = 150), (hMax = 255 , sMax = 50, vMax = 255)\n",
      "(hMin = 0 , sMin = 0, vMin = 150), (hMax = 255 , sMax = 48, vMax = 255)\n",
      "(hMin = 0 , sMin = 0, vMin = 150), (hMax = 255 , sMax = 50, vMax = 255)\n",
      "(hMin = 0 , sMin = 0, vMin = 150), (hMax = 255 , sMax = 52, vMax = 255)\n",
      "(hMin = 0 , sMin = 0, vMin = 150), (hMax = 255 , sMax = 50, vMax = 255)\n",
      "(hMin = 0 , sMin = 0, vMin = 150), (hMax = 255 , sMax = 50, vMax = 201)\n",
      "(hMin = 0 , sMin = 0, vMin = 150), (hMax = 255 , sMax = 50, vMax = 136)\n",
      "(hMin = 0 , sMin = 0, vMin = 150), (hMax = 255 , sMax = 50, vMax = 102)\n",
      "(hMin = 0 , sMin = 0, vMin = 150), (hMax = 255 , sMax = 50, vMax = 82)\n",
      "(hMin = 0 , sMin = 0, vMin = 150), (hMax = 255 , sMax = 50, vMax = 63)\n",
      "(hMin = 0 , sMin = 0, vMin = 150), (hMax = 255 , sMax = 50, vMax = 50)\n",
      "(hMin = 0 , sMin = 0, vMin = 150), (hMax = 255 , sMax = 50, vMax = 45)\n",
      "(hMin = 0 , sMin = 0, vMin = 150), (hMax = 255 , sMax = 50, vMax = 43)\n",
      "(hMin = 0 , sMin = 0, vMin = 150), (hMax = 255 , sMax = 50, vMax = 97)\n",
      "(hMin = 0 , sMin = 0, vMin = 150), (hMax = 255 , sMax = 50, vMax = 253)\n",
      "(hMin = 0 , sMin = 0, vMin = 150), (hMax = 255 , sMax = 50, vMax = 255)\n",
      "(hMin = 0 , sMin = 0, vMin = 150), (hMax = 255 , sMax = 61, vMax = 255)\n",
      "(hMin = 0 , sMin = 0, vMin = 150), (hMax = 255 , sMax = 123, vMax = 255)\n",
      "(hMin = 0 , sMin = 0, vMin = 150), (hMax = 255 , sMax = 173, vMax = 255)\n",
      "(hMin = 0 , sMin = 0, vMin = 150), (hMax = 255 , sMax = 231, vMax = 255)\n",
      "(hMin = 0 , sMin = 0, vMin = 150), (hMax = 255 , sMax = 255, vMax = 255)\n",
      "(hMin = 0 , sMin = 0, vMin = 150), (hMax = 238 , sMax = 255, vMax = 255)\n",
      "(hMin = 0 , sMin = 0, vMin = 150), (hMax = 223 , sMax = 255, vMax = 255)\n",
      "(hMin = 0 , sMin = 0, vMin = 150), (hMax = 205 , sMax = 255, vMax = 255)\n",
      "(hMin = 0 , sMin = 0, vMin = 150), (hMax = 192 , sMax = 255, vMax = 255)\n",
      "(hMin = 0 , sMin = 0, vMin = 150), (hMax = 177 , sMax = 255, vMax = 255)\n",
      "(hMin = 0 , sMin = 0, vMin = 150), (hMax = 169 , sMax = 255, vMax = 255)\n",
      "(hMin = 0 , sMin = 0, vMin = 150), (hMax = 160 , sMax = 255, vMax = 255)\n",
      "(hMin = 0 , sMin = 0, vMin = 150), (hMax = 158 , sMax = 255, vMax = 255)\n",
      "(hMin = 0 , sMin = 0, vMin = 150), (hMax = 151 , sMax = 255, vMax = 255)\n",
      "(hMin = 0 , sMin = 0, vMin = 150), (hMax = 134 , sMax = 255, vMax = 255)\n",
      "(hMin = 0 , sMin = 0, vMin = 150), (hMax = 128 , sMax = 255, vMax = 255)\n",
      "(hMin = 0 , sMin = 0, vMin = 150), (hMax = 121 , sMax = 255, vMax = 255)\n",
      "(hMin = 0 , sMin = 0, vMin = 150), (hMax = 117 , sMax = 255, vMax = 255)\n",
      "(hMin = 0 , sMin = 0, vMin = 150), (hMax = 115 , sMax = 255, vMax = 255)\n",
      "(hMin = 0 , sMin = 0, vMin = 150), (hMax = 117 , sMax = 255, vMax = 255)\n",
      "(hMin = 0 , sMin = 0, vMin = 150), (hMax = 115 , sMax = 255, vMax = 255)\n",
      "(hMin = 0 , sMin = 0, vMin = 150), (hMax = 106 , sMax = 255, vMax = 255)\n",
      "(hMin = 0 , sMin = 0, vMin = 150), (hMax = 99 , sMax = 255, vMax = 255)\n",
      "(hMin = 0 , sMin = 0, vMin = 150), (hMax = 95 , sMax = 255, vMax = 255)\n",
      "(hMin = 0 , sMin = 0, vMin = 150), (hMax = 93 , sMax = 255, vMax = 255)\n",
      "(hMin = 0 , sMin = 0, vMin = 150), (hMax = 91 , sMax = 255, vMax = 255)\n",
      "(hMin = 0 , sMin = 0, vMin = 150), (hMax = 82 , sMax = 255, vMax = 255)\n",
      "(hMin = 0 , sMin = 0, vMin = 150), (hMax = 67 , sMax = 255, vMax = 255)\n",
      "(hMin = 0 , sMin = 0, vMin = 150), (hMax = 52 , sMax = 255, vMax = 255)\n",
      "(hMin = 0 , sMin = 0, vMin = 150), (hMax = 48 , sMax = 255, vMax = 255)\n",
      "(hMin = 0 , sMin = 0, vMin = 150), (hMax = 41 , sMax = 255, vMax = 255)\n",
      "(hMin = 0 , sMin = 0, vMin = 150), (hMax = 39 , sMax = 255, vMax = 255)\n",
      "(hMin = 0 , sMin = 0, vMin = 150), (hMax = 37 , sMax = 255, vMax = 255)\n",
      "(hMin = 0 , sMin = 0, vMin = 150), (hMax = 39 , sMax = 255, vMax = 255)\n",
      "(hMin = 0 , sMin = 0, vMin = 150), (hMax = 52 , sMax = 255, vMax = 255)\n",
      "(hMin = 0 , sMin = 0, vMin = 150), (hMax = 56 , sMax = 255, vMax = 255)\n",
      "(hMin = 0 , sMin = 0, vMin = 150), (hMax = 63 , sMax = 255, vMax = 255)\n",
      "(hMin = 0 , sMin = 0, vMin = 150), (hMax = 65 , sMax = 255, vMax = 255)\n",
      "(hMin = 0 , sMin = 0, vMin = 150), (hMax = 69 , sMax = 255, vMax = 255)\n",
      "(hMin = 0 , sMin = 0, vMin = 150), (hMax = 76 , sMax = 255, vMax = 255)\n",
      "(hMin = 0 , sMin = 0, vMin = 150), (hMax = 82 , sMax = 255, vMax = 255)\n",
      "(hMin = 0 , sMin = 0, vMin = 150), (hMax = 91 , sMax = 255, vMax = 255)\n",
      "(hMin = 0 , sMin = 0, vMin = 150), (hMax = 104 , sMax = 255, vMax = 255)\n",
      "(hMin = 0 , sMin = 0, vMin = 150), (hMax = 115 , sMax = 255, vMax = 255)\n",
      "(hMin = 0 , sMin = 0, vMin = 150), (hMax = 123 , sMax = 255, vMax = 255)\n",
      "(hMin = 0 , sMin = 0, vMin = 150), (hMax = 132 , sMax = 255, vMax = 255)\n",
      "(hMin = 0 , sMin = 0, vMin = 150), (hMax = 138 , sMax = 255, vMax = 255)\n",
      "(hMin = 0 , sMin = 0, vMin = 150), (hMax = 143 , sMax = 255, vMax = 255)\n",
      "(hMin = 0 , sMin = 0, vMin = 150), (hMax = 151 , sMax = 255, vMax = 255)\n",
      "(hMin = 0 , sMin = 0, vMin = 150), (hMax = 166 , sMax = 255, vMax = 255)\n",
      "(hMin = 0 , sMin = 0, vMin = 150), (hMax = 203 , sMax = 255, vMax = 255)\n",
      "(hMin = 0 , sMin = 0, vMin = 150), (hMax = 229 , sMax = 255, vMax = 255)\n",
      "(hMin = 0 , sMin = 0, vMin = 150), (hMax = 249 , sMax = 255, vMax = 255)\n",
      "(hMin = 0 , sMin = 0, vMin = 150), (hMax = 255 , sMax = 255, vMax = 255)\n",
      "(hMin = 0 , sMin = 0, vMin = 150), (hMax = 236 , sMax = 255, vMax = 255)\n",
      "(hMin = 0 , sMin = 0, vMin = 150), (hMax = 169 , sMax = 255, vMax = 255)\n",
      "(hMin = 0 , sMin = 0, vMin = 150), (hMax = 58 , sMax = 255, vMax = 255)\n",
      "(hMin = 0 , sMin = 0, vMin = 150), (hMax = 0 , sMax = 255, vMax = 255)\n",
      "(hMin = 0 , sMin = 0, vMin = 150), (hMax = 4 , sMax = 255, vMax = 255)\n",
      "(hMin = 0 , sMin = 0, vMin = 150), (hMax = 22 , sMax = 255, vMax = 255)\n",
      "(hMin = 0 , sMin = 0, vMin = 150), (hMax = 35 , sMax = 255, vMax = 255)\n",
      "(hMin = 0 , sMin = 0, vMin = 150), (hMax = 54 , sMax = 255, vMax = 255)\n",
      "(hMin = 0 , sMin = 0, vMin = 150), (hMax = 125 , sMax = 255, vMax = 255)\n",
      "(hMin = 0 , sMin = 0, vMin = 150), (hMax = 188 , sMax = 255, vMax = 255)\n",
      "(hMin = 0 , sMin = 0, vMin = 150), (hMax = 220 , sMax = 255, vMax = 255)\n",
      "(hMin = 0 , sMin = 0, vMin = 150), (hMax = 240 , sMax = 255, vMax = 255)\n",
      "(hMin = 0 , sMin = 0, vMin = 150), (hMax = 255 , sMax = 255, vMax = 255)\n",
      "(hMin = 0 , sMin = 0, vMin = 150), (hMax = 255 , sMax = 255, vMax = 216)\n",
      "(hMin = 0 , sMin = 0, vMin = 150), (hMax = 255 , sMax = 255, vMax = 169)\n",
      "(hMin = 0 , sMin = 0, vMin = 150), (hMax = 255 , sMax = 255, vMax = 140)\n",
      "(hMin = 0 , sMin = 0, vMin = 150), (hMax = 255 , sMax = 255, vMax = 125)\n",
      "(hMin = 0 , sMin = 0, vMin = 150), (hMax = 255 , sMax = 255, vMax = 76)\n",
      "(hMin = 0 , sMin = 0, vMin = 150), (hMax = 255 , sMax = 255, vMax = 26)\n",
      "(hMin = 0 , sMin = 0, vMin = 150), (hMax = 255 , sMax = 255, vMax = 0)\n",
      "(hMin = 0 , sMin = 0, vMin = 150), (hMax = 255 , sMax = 255, vMax = 58)\n",
      "(hMin = 0 , sMin = 0, vMin = 150), (hMax = 255 , sMax = 255, vMax = 82)\n",
      "(hMin = 0 , sMin = 0, vMin = 150), (hMax = 255 , sMax = 255, vMax = 97)\n",
      "(hMin = 0 , sMin = 0, vMin = 150), (hMax = 255 , sMax = 255, vMax = 106)\n",
      "(hMin = 0 , sMin = 0, vMin = 150), (hMax = 255 , sMax = 255, vMax = 108)\n",
      "(hMin = 0 , sMin = 0, vMin = 150), (hMax = 255 , sMax = 255, vMax = 112)\n",
      "(hMin = 0 , sMin = 0, vMin = 150), (hMax = 255 , sMax = 255, vMax = 117)\n",
      "(hMin = 0 , sMin = 0, vMin = 150), (hMax = 255 , sMax = 255, vMax = 121)\n",
      "(hMin = 0 , sMin = 0, vMin = 150), (hMax = 255 , sMax = 255, vMax = 134)\n",
      "(hMin = 0 , sMin = 0, vMin = 150), (hMax = 255 , sMax = 255, vMax = 149)\n",
      "(hMin = 0 , sMin = 0, vMin = 150), (hMax = 255 , sMax = 255, vMax = 158)\n",
      "(hMin = 0 , sMin = 0, vMin = 150), (hMax = 255 , sMax = 255, vMax = 160)\n",
      "(hMin = 0 , sMin = 0, vMin = 150), (hMax = 255 , sMax = 255, vMax = 166)\n",
      "(hMin = 0 , sMin = 0, vMin = 150), (hMax = 255 , sMax = 255, vMax = 169)\n",
      "(hMin = 0 , sMin = 0, vMin = 150), (hMax = 255 , sMax = 255, vMax = 175)\n",
      "(hMin = 0 , sMin = 0, vMin = 150), (hMax = 255 , sMax = 255, vMax = 177)\n",
      "(hMin = 0 , sMin = 0, vMin = 150), (hMax = 255 , sMax = 255, vMax = 182)\n",
      "(hMin = 0 , sMin = 0, vMin = 150), (hMax = 255 , sMax = 255, vMax = 184)\n",
      "(hMin = 0 , sMin = 0, vMin = 150), (hMax = 255 , sMax = 255, vMax = 190)\n",
      "(hMin = 0 , sMin = 0, vMin = 150), (hMax = 255 , sMax = 255, vMax = 199)\n",
      "(hMin = 0 , sMin = 0, vMin = 150), (hMax = 255 , sMax = 255, vMax = 205)\n",
      "(hMin = 0 , sMin = 0, vMin = 150), (hMax = 255 , sMax = 255, vMax = 212)\n",
      "(hMin = 0 , sMin = 0, vMin = 150), (hMax = 255 , sMax = 255, vMax = 214)\n",
      "(hMin = 0 , sMin = 0, vMin = 150), (hMax = 255 , sMax = 255, vMax = 216)\n",
      "(hMin = 0 , sMin = 0, vMin = 150), (hMax = 255 , sMax = 255, vMax = 218)\n",
      "(hMin = 0 , sMin = 0, vMin = 150), (hMax = 255 , sMax = 255, vMax = 225)\n",
      "(hMin = 0 , sMin = 0, vMin = 150), (hMax = 255 , sMax = 255, vMax = 229)\n",
      "(hMin = 0 , sMin = 0, vMin = 150), (hMax = 255 , sMax = 255, vMax = 233)\n",
      "(hMin = 0 , sMin = 0, vMin = 150), (hMax = 255 , sMax = 255, vMax = 238)\n",
      "(hMin = 0 , sMin = 0, vMin = 150), (hMax = 255 , sMax = 255, vMax = 240)\n",
      "(hMin = 0 , sMin = 0, vMin = 150), (hMax = 255 , sMax = 255, vMax = 246)\n",
      "(hMin = 0 , sMin = 0, vMin = 150), (hMax = 255 , sMax = 255, vMax = 255)\n",
      "(hMin = 0 , sMin = 0, vMin = 150), (hMax = 255 , sMax = 249, vMax = 255)\n",
      "(hMin = 0 , sMin = 0, vMin = 150), (hMax = 255 , sMax = 244, vMax = 255)\n",
      "(hMin = 0 , sMin = 0, vMin = 150), (hMax = 255 , sMax = 242, vMax = 255)\n",
      "(hMin = 0 , sMin = 0, vMin = 150), (hMax = 255 , sMax = 238, vMax = 255)\n",
      "(hMin = 0 , sMin = 0, vMin = 150), (hMax = 255 , sMax = 229, vMax = 255)\n",
      "(hMin = 0 , sMin = 0, vMin = 150), (hMax = 255 , sMax = 225, vMax = 255)\n",
      "(hMin = 0 , sMin = 0, vMin = 150), (hMax = 255 , sMax = 220, vMax = 255)\n",
      "(hMin = 0 , sMin = 0, vMin = 150), (hMax = 255 , sMax = 218, vMax = 255)\n",
      "(hMin = 0 , sMin = 0, vMin = 150), (hMax = 255 , sMax = 216, vMax = 255)\n",
      "(hMin = 0 , sMin = 0, vMin = 150), (hMax = 255 , sMax = 218, vMax = 255)\n",
      "(hMin = 0 , sMin = 0, vMin = 150), (hMax = 255 , sMax = 220, vMax = 255)\n",
      "(hMin = 0 , sMin = 0, vMin = 150), (hMax = 255 , sMax = 223, vMax = 255)\n",
      "(hMin = 0 , sMin = 0, vMin = 150), (hMax = 255 , sMax = 227, vMax = 255)\n",
      "(hMin = 0 , sMin = 0, vMin = 150), (hMax = 255 , sMax = 236, vMax = 255)\n",
      "(hMin = 0 , sMin = 0, vMin = 150), (hMax = 255 , sMax = 240, vMax = 255)\n",
      "(hMin = 0 , sMin = 0, vMin = 150), (hMax = 255 , sMax = 249, vMax = 255)\n",
      "(hMin = 0 , sMin = 0, vMin = 150), (hMax = 255 , sMax = 255, vMax = 255)\n",
      "(hMin = 0 , sMin = 0, vMin = 150), (hMax = 251 , sMax = 255, vMax = 255)\n",
      "(hMin = 0 , sMin = 0, vMin = 150), (hMax = 249 , sMax = 255, vMax = 255)\n",
      "(hMin = 0 , sMin = 0, vMin = 150), (hMax = 242 , sMax = 255, vMax = 255)\n",
      "(hMin = 0 , sMin = 0, vMin = 150), (hMax = 233 , sMax = 255, vMax = 255)\n",
      "(hMin = 0 , sMin = 0, vMin = 150), (hMax = 227 , sMax = 255, vMax = 255)\n",
      "(hMin = 0 , sMin = 0, vMin = 150), (hMax = 223 , sMax = 255, vMax = 255)\n",
      "(hMin = 0 , sMin = 0, vMin = 150), (hMax = 220 , sMax = 255, vMax = 255)\n",
      "(hMin = 0 , sMin = 0, vMin = 150), (hMax = 214 , sMax = 255, vMax = 255)\n",
      "(hMin = 0 , sMin = 0, vMin = 150), (hMax = 212 , sMax = 255, vMax = 255)\n",
      "(hMin = 0 , sMin = 0, vMin = 150), (hMax = 205 , sMax = 255, vMax = 255)\n",
      "(hMin = 0 , sMin = 0, vMin = 150), (hMax = 199 , sMax = 255, vMax = 255)\n",
      "(hMin = 0 , sMin = 0, vMin = 150), (hMax = 194 , sMax = 255, vMax = 255)\n",
      "(hMin = 0 , sMin = 0, vMin = 150), (hMax = 188 , sMax = 255, vMax = 255)\n",
      "(hMin = 0 , sMin = 0, vMin = 150), (hMax = 186 , sMax = 255, vMax = 255)\n",
      "(hMin = 0 , sMin = 0, vMin = 150), (hMax = 177 , sMax = 255, vMax = 255)\n",
      "(hMin = 0 , sMin = 0, vMin = 150), (hMax = 171 , sMax = 255, vMax = 255)\n",
      "(hMin = 0 , sMin = 0, vMin = 150), (hMax = 162 , sMax = 255, vMax = 255)\n",
      "(hMin = 0 , sMin = 0, vMin = 150), (hMax = 160 , sMax = 255, vMax = 255)\n",
      "(hMin = 0 , sMin = 0, vMin = 150), (hMax = 158 , sMax = 255, vMax = 255)\n",
      "(hMin = 0 , sMin = 0, vMin = 150), (hMax = 156 , sMax = 255, vMax = 255)\n",
      "(hMin = 0 , sMin = 0, vMin = 150), (hMax = 147 , sMax = 255, vMax = 255)\n",
      "(hMin = 0 , sMin = 0, vMin = 150), (hMax = 145 , sMax = 255, vMax = 255)\n",
      "(hMin = 0 , sMin = 0, vMin = 150), (hMax = 140 , sMax = 255, vMax = 255)\n",
      "(hMin = 0 , sMin = 0, vMin = 150), (hMax = 136 , sMax = 255, vMax = 255)\n",
      "(hMin = 0 , sMin = 0, vMin = 150), (hMax = 128 , sMax = 255, vMax = 255)\n",
      "(hMin = 0 , sMin = 0, vMin = 150), (hMax = 119 , sMax = 255, vMax = 255)\n",
      "(hMin = 0 , sMin = 0, vMin = 150), (hMax = 110 , sMax = 255, vMax = 255)\n",
      "(hMin = 0 , sMin = 0, vMin = 150), (hMax = 106 , sMax = 255, vMax = 255)\n",
      "(hMin = 0 , sMin = 0, vMin = 150), (hMax = 104 , sMax = 255, vMax = 255)\n",
      "(hMin = 0 , sMin = 0, vMin = 150), (hMax = 102 , sMax = 255, vMax = 255)\n",
      "(hMin = 0 , sMin = 0, vMin = 150), (hMax = 89 , sMax = 255, vMax = 255)\n",
      "(hMin = 0 , sMin = 0, vMin = 150), (hMax = 80 , sMax = 255, vMax = 255)\n",
      "(hMin = 0 , sMin = 0, vMin = 150), (hMax = 76 , sMax = 255, vMax = 255)\n",
      "(hMin = 0 , sMin = 0, vMin = 150), (hMax = 73 , sMax = 255, vMax = 255)\n",
      "(hMin = 0 , sMin = 0, vMin = 150), (hMax = 71 , sMax = 255, vMax = 255)\n",
      "(hMin = 0 , sMin = 0, vMin = 150), (hMax = 69 , sMax = 255, vMax = 255)\n",
      "(hMin = 0 , sMin = 0, vMin = 150), (hMax = 63 , sMax = 255, vMax = 255)\n",
      "(hMin = 0 , sMin = 0, vMin = 150), (hMax = 54 , sMax = 255, vMax = 255)\n",
      "(hMin = 0 , sMin = 0, vMin = 150), (hMax = 50 , sMax = 255, vMax = 255)\n",
      "(hMin = 0 , sMin = 0, vMin = 150), (hMax = 43 , sMax = 255, vMax = 255)\n",
      "(hMin = 0 , sMin = 0, vMin = 150), (hMax = 41 , sMax = 255, vMax = 255)\n",
      "(hMin = 0 , sMin = 0, vMin = 150), (hMax = 43 , sMax = 255, vMax = 255)\n",
      "(hMin = 0 , sMin = 0, vMin = 150), (hMax = 45 , sMax = 255, vMax = 255)\n",
      "(hMin = 0 , sMin = 0, vMin = 150), (hMax = 50 , sMax = 255, vMax = 255)\n",
      "(hMin = 0 , sMin = 0, vMin = 150), (hMax = 52 , sMax = 255, vMax = 255)\n",
      "(hMin = 0 , sMin = 0, vMin = 150), (hMax = 56 , sMax = 255, vMax = 255)\n",
      "(hMin = 0 , sMin = 0, vMin = 150), (hMax = 58 , sMax = 255, vMax = 255)\n",
      "(hMin = 0 , sMin = 0, vMin = 150), (hMax = 61 , sMax = 255, vMax = 255)\n",
      "(hMin = 0 , sMin = 0, vMin = 150), (hMax = 65 , sMax = 255, vMax = 255)\n",
      "(hMin = 0 , sMin = 0, vMin = 150), (hMax = 67 , sMax = 255, vMax = 255)\n",
      "(hMin = 0 , sMin = 0, vMin = 150), (hMax = 69 , sMax = 255, vMax = 255)\n",
      "(hMin = 0 , sMin = 0, vMin = 150), (hMax = 71 , sMax = 255, vMax = 255)\n",
      "(hMin = 0 , sMin = 0, vMin = 150), (hMax = 73 , sMax = 255, vMax = 255)\n",
      "(hMin = 0 , sMin = 0, vMin = 150), (hMax = 76 , sMax = 255, vMax = 255)\n",
      "(hMin = 0 , sMin = 0, vMin = 150), (hMax = 78 , sMax = 255, vMax = 255)\n",
      "(hMin = 0 , sMin = 0, vMin = 150), (hMax = 80 , sMax = 255, vMax = 255)\n",
      "(hMin = 0 , sMin = 0, vMin = 150), (hMax = 84 , sMax = 255, vMax = 255)\n",
      "(hMin = 0 , sMin = 0, vMin = 150), (hMax = 86 , sMax = 255, vMax = 255)\n",
      "(hMin = 0 , sMin = 0, vMin = 150), (hMax = 89 , sMax = 255, vMax = 255)\n",
      "(hMin = 0 , sMin = 0, vMin = 150), (hMax = 91 , sMax = 255, vMax = 255)\n",
      "(hMin = 0 , sMin = 0, vMin = 150), (hMax = 93 , sMax = 255, vMax = 255)\n",
      "(hMin = 0 , sMin = 0, vMin = 150), (hMax = 95 , sMax = 255, vMax = 255)\n",
      "(hMin = 0 , sMin = 0, vMin = 150), (hMax = 97 , sMax = 255, vMax = 255)\n",
      "(hMin = 0 , sMin = 0, vMin = 150), (hMax = 99 , sMax = 255, vMax = 255)\n",
      "(hMin = 0 , sMin = 0, vMin = 150), (hMax = 102 , sMax = 255, vMax = 255)\n",
      "(hMin = 0 , sMin = 0, vMin = 150), (hMax = 104 , sMax = 255, vMax = 255)\n",
      "(hMin = 0 , sMin = 0, vMin = 150), (hMax = 110 , sMax = 255, vMax = 255)\n",
      "(hMin = 0 , sMin = 0, vMin = 150), (hMax = 119 , sMax = 255, vMax = 255)\n",
      "(hMin = 0 , sMin = 0, vMin = 150), (hMax = 123 , sMax = 255, vMax = 255)\n",
      "(hMin = 0 , sMin = 0, vMin = 150), (hMax = 128 , sMax = 255, vMax = 255)\n",
      "(hMin = 0 , sMin = 0, vMin = 150), (hMax = 130 , sMax = 255, vMax = 255)\n",
      "(hMin = 0 , sMin = 0, vMin = 150), (hMax = 132 , sMax = 255, vMax = 255)\n",
      "(hMin = 0 , sMin = 0, vMin = 150), (hMax = 130 , sMax = 255, vMax = 255)\n",
      "(hMin = 0 , sMin = 0, vMin = 150), (hMax = 125 , sMax = 255, vMax = 255)\n",
      "(hMin = 0 , sMin = 0, vMin = 150), (hMax = 121 , sMax = 255, vMax = 255)\n",
      "(hMin = 0 , sMin = 0, vMin = 150), (hMax = 117 , sMax = 255, vMax = 255)\n",
      "(hMin = 0 , sMin = 0, vMin = 150), (hMax = 110 , sMax = 255, vMax = 255)\n",
      "(hMin = 0 , sMin = 0, vMin = 150), (hMax = 106 , sMax = 255, vMax = 255)\n",
      "(hMin = 0 , sMin = 0, vMin = 150), (hMax = 102 , sMax = 255, vMax = 255)\n",
      "(hMin = 0 , sMin = 0, vMin = 150), (hMax = 99 , sMax = 255, vMax = 255)\n",
      "(hMin = 0 , sMin = 0, vMin = 150), (hMax = 97 , sMax = 255, vMax = 255)\n",
      "(hMin = 0 , sMin = 0, vMin = 150), (hMax = 95 , sMax = 255, vMax = 255)\n",
      "(hMin = 0 , sMin = 0, vMin = 150), (hMax = 93 , sMax = 255, vMax = 255)\n",
      "(hMin = 0 , sMin = 0, vMin = 150), (hMax = 91 , sMax = 255, vMax = 255)\n",
      "(hMin = 0 , sMin = 0, vMin = 150), (hMax = 89 , sMax = 255, vMax = 255)\n",
      "(hMin = 0 , sMin = 0, vMin = 150), (hMax = 86 , sMax = 255, vMax = 255)\n",
      "(hMin = 0 , sMin = 0, vMin = 150), (hMax = 84 , sMax = 255, vMax = 255)\n",
      "(hMin = 0 , sMin = 0, vMin = 150), (hMax = 80 , sMax = 255, vMax = 255)\n",
      "(hMin = 0 , sMin = 0, vMin = 150), (hMax = 78 , sMax = 255, vMax = 255)\n",
      "(hMin = 0 , sMin = 0, vMin = 150), (hMax = 76 , sMax = 255, vMax = 255)\n",
      "(hMin = 0 , sMin = 0, vMin = 150), (hMax = 73 , sMax = 255, vMax = 255)\n",
      "(hMin = 0 , sMin = 0, vMin = 150), (hMax = 71 , sMax = 255, vMax = 255)\n",
      "(hMin = 0 , sMin = 0, vMin = 150), (hMax = 67 , sMax = 255, vMax = 255)\n",
      "(hMin = 0 , sMin = 0, vMin = 150), (hMax = 69 , sMax = 255, vMax = 255)\n",
      "(hMin = 0 , sMin = 0, vMin = 150), (hMax = 71 , sMax = 255, vMax = 255)\n",
      "(hMin = 0 , sMin = 0, vMin = 150), (hMax = 76 , sMax = 255, vMax = 255)\n",
      "(hMin = 0 , sMin = 0, vMin = 150), (hMax = 71 , sMax = 255, vMax = 255)\n",
      "(hMin = 0 , sMin = 0, vMin = 150), (hMax = 67 , sMax = 255, vMax = 255)\n",
      "(hMin = 0 , sMin = 0, vMin = 150), (hMax = 65 , sMax = 255, vMax = 255)\n",
      "(hMin = 0 , sMin = 0, vMin = 150), (hMax = 63 , sMax = 255, vMax = 255)\n",
      "(hMin = 0 , sMin = 0, vMin = 150), (hMax = 61 , sMax = 255, vMax = 255)\n",
      "(hMin = 0 , sMin = 0, vMin = 150), (hMax = 58 , sMax = 255, vMax = 255)\n",
      "(hMin = 0 , sMin = 0, vMin = 150), (hMax = 56 , sMax = 255, vMax = 255)\n",
      "(hMin = 0 , sMin = 0, vMin = 150), (hMax = 54 , sMax = 255, vMax = 255)\n",
      "(hMin = 0 , sMin = 0, vMin = 150), (hMax = 52 , sMax = 255, vMax = 255)\n",
      "(hMin = 0 , sMin = 0, vMin = 150), (hMax = 50 , sMax = 255, vMax = 255)\n",
      "(hMin = 0 , sMin = 0, vMin = 150), (hMax = 48 , sMax = 255, vMax = 255)\n",
      "(hMin = 0 , sMin = 0, vMin = 150), (hMax = 45 , sMax = 255, vMax = 255)\n",
      "(hMin = 0 , sMin = 0, vMin = 150), (hMax = 41 , sMax = 255, vMax = 255)\n",
      "(hMin = 0 , sMin = 0, vMin = 150), (hMax = 43 , sMax = 255, vMax = 255)\n",
      "(hMin = 0 , sMin = 0, vMin = 150), (hMax = 50 , sMax = 255, vMax = 255)\n",
      "(hMin = 0 , sMin = 0, vMin = 150), (hMax = 52 , sMax = 255, vMax = 255)\n",
      "(hMin = 0 , sMin = 0, vMin = 150), (hMax = 56 , sMax = 255, vMax = 255)\n",
      "(hMin = 0 , sMin = 0, vMin = 150), (hMax = 58 , sMax = 255, vMax = 255)\n",
      "(hMin = 0 , sMin = 0, vMin = 150), (hMax = 61 , sMax = 255, vMax = 255)\n",
      "(hMin = 0 , sMin = 0, vMin = 150), (hMax = 65 , sMax = 255, vMax = 255)\n",
      "(hMin = 0 , sMin = 0, vMin = 150), (hMax = 67 , sMax = 255, vMax = 255)\n",
      "(hMin = 0 , sMin = 0, vMin = 150), (hMax = 69 , sMax = 255, vMax = 255)\n",
      "(hMin = 0 , sMin = 0, vMin = 150), (hMax = 76 , sMax = 255, vMax = 255)\n",
      "(hMin = 0 , sMin = 0, vMin = 150), (hMax = 78 , sMax = 255, vMax = 255)\n",
      "(hMin = 0 , sMin = 0, vMin = 150), (hMax = 84 , sMax = 255, vMax = 255)\n",
      "(hMin = 0 , sMin = 0, vMin = 150), (hMax = 89 , sMax = 255, vMax = 255)\n",
      "(hMin = 0 , sMin = 0, vMin = 150), (hMax = 93 , sMax = 255, vMax = 255)\n",
      "(hMin = 0 , sMin = 0, vMin = 150), (hMax = 104 , sMax = 255, vMax = 255)\n",
      "(hMin = 0 , sMin = 0, vMin = 150), (hMax = 179 , sMax = 255, vMax = 255)\n",
      "(hMin = 0 , sMin = 0, vMin = 150), (hMax = 255 , sMax = 255, vMax = 255)\n"
     ]
    },
    {
     "ename": "error",
     "evalue": "OpenCV(4.8.0) D:\\a\\opencv-python\\opencv-python\\opencv\\modules\\highgui\\src\\window_w32.cpp:2561: error: (-27:Null pointer) NULL window: 'image' in function 'cvGetTrackbarPos'\n",
     "output_type": "error",
     "traceback": [
      "\u001b[1;31m---------------------------------------------------------------------------\u001b[0m",
      "\u001b[1;31merror\u001b[0m                                     Traceback (most recent call last)",
      "Cell \u001b[1;32mIn[22], line 2\u001b[0m\n\u001b[0;32m      1\u001b[0m \u001b[38;5;66;03m# TODO Discover white color ranges\u001b[39;00m\n\u001b[1;32m----> 2\u001b[0m \u001b[43mget_hsv_color_ranges\u001b[49m\u001b[43m(\u001b[49m\u001b[43mhsv_imgs\u001b[49m\u001b[43m[\u001b[49m\u001b[38;5;241;43m-\u001b[39;49m\u001b[38;5;241;43m4\u001b[39;49m\u001b[43m]\u001b[49m\u001b[43m)\u001b[49m \n\u001b[0;32m      4\u001b[0m \u001b[38;5;66;03m# TODO Define white color range\u001b[39;00m\n\u001b[0;32m      5\u001b[0m light_white \u001b[38;5;241m=\u001b[39m (\u001b[38;5;241m0\u001b[39m, \u001b[38;5;241m0\u001b[39m, \u001b[38;5;241m150\u001b[39m)\n",
      "File \u001b[1;32mc:\\Users\\pablo\\OneDrive\\Escritorio\\Archivo\\Safe place\\Universidad\\ICAI\\3º\\Visión\\Computer-Vision-Projects\\Lab_2\\utils.py:72\u001b[0m, in \u001b[0;36mget_hsv_color_ranges\u001b[1;34m(image)\u001b[0m\n\u001b[0;32m     67\u001b[0m wait_time \u001b[38;5;241m=\u001b[39m \u001b[38;5;241m33\u001b[39m\n\u001b[0;32m     69\u001b[0m \u001b[38;5;28;01mwhile\u001b[39;00m(\u001b[38;5;241m1\u001b[39m):\n\u001b[0;32m     70\u001b[0m \n\u001b[0;32m     71\u001b[0m     \u001b[38;5;66;03m# get current positions of all trackbars\u001b[39;00m\n\u001b[1;32m---> 72\u001b[0m     hMin \u001b[38;5;241m=\u001b[39m \u001b[43mcv2\u001b[49m\u001b[38;5;241;43m.\u001b[39;49m\u001b[43mgetTrackbarPos\u001b[49m\u001b[43m(\u001b[49m\u001b[38;5;124;43m'\u001b[39;49m\u001b[38;5;124;43mHMin\u001b[39;49m\u001b[38;5;124;43m'\u001b[39;49m\u001b[43m,\u001b[49m\u001b[38;5;124;43m'\u001b[39;49m\u001b[38;5;124;43mimage\u001b[39;49m\u001b[38;5;124;43m'\u001b[39;49m\u001b[43m)\u001b[49m\n\u001b[0;32m     73\u001b[0m     sMin \u001b[38;5;241m=\u001b[39m cv2\u001b[38;5;241m.\u001b[39mgetTrackbarPos(\u001b[38;5;124m'\u001b[39m\u001b[38;5;124mSMin\u001b[39m\u001b[38;5;124m'\u001b[39m,\u001b[38;5;124m'\u001b[39m\u001b[38;5;124mimage\u001b[39m\u001b[38;5;124m'\u001b[39m)\n\u001b[0;32m     74\u001b[0m     vMin \u001b[38;5;241m=\u001b[39m cv2\u001b[38;5;241m.\u001b[39mgetTrackbarPos(\u001b[38;5;124m'\u001b[39m\u001b[38;5;124mVMin\u001b[39m\u001b[38;5;124m'\u001b[39m,\u001b[38;5;124m'\u001b[39m\u001b[38;5;124mimage\u001b[39m\u001b[38;5;124m'\u001b[39m)\n",
      "\u001b[1;31merror\u001b[0m: OpenCV(4.8.0) D:\\a\\opencv-python\\opencv-python\\opencv\\modules\\highgui\\src\\window_w32.cpp:2561: error: (-27:Null pointer) NULL window: 'image' in function 'cvGetTrackbarPos'\n"
     ]
    }
   ],
   "source": [
    "# TODO Discover white color ranges\n",
    "get_hsv_color_ranges(hsv_imgs[-4]) \n",
    "\n",
    "# TODO Define white color range\n",
    "light_white = (0, 0, 150)\n",
    "dark_white = (255, 50, 255)\n",
    "\n",
    "# TODO Compute a list that contains a mask (which should segment white colors) for every image.\n",
    "white_masks = [cv2.inRange(img, light_white, dark_white) for img in hsv_imgs]\n",
    "\n",
    "# TODO Compute a list that contains the result of multiplying the original image with its white colors mask.\n",
    "white_segmented = [cv2.bitwise_and(img, img, mask = mask) for img, mask in zip(imgs, white_masks)]\n",
    "\n",
    "# TODO Show an original image\n",
    "# [show_image(img) for img in imgs]\n",
    "\n",
    "# TODO Show a mask\n",
    "# [show_image(mask) for mask in white_masks]\n",
    "\n",
    "# TODO Show a segmented image\n",
    "# [show_image(img) for img in white_segmented]\n",
    "\n",
    "# cv2.destroyAllWindows()"
   ]
  },
  {
   "cell_type": "markdown",
   "metadata": {},
   "source": [
    "### **Tarea A.6:** Junte las máscaras para cada imagen (naranja + blanco) y segmente cada una de ellas."
   ]
  },
  {
   "cell_type": "code",
   "execution_count": null,
   "metadata": {},
   "outputs": [],
   "source": [
    "# TODO Join orange_masks and white_masks\n",
    "fish_masks = [orange_mask + white_mask for orange_mask, white_mask in zip(orange_masks, white_masks)]\n",
    "    \n",
    "# TODO Compute a list that contains the result of multiplying the original image with its complete mask.\n",
    "fish_images = [cv2.bitwise_and(img, img, mask = mask) for img, mask in zip(imgs, fish_masks)]\n",
    "\n",
    "# TODO Show an original image\n",
    "# [show_image(img) for img in imgs]\n",
    "\n",
    "# TODO Show a mask\n",
    "# [show_image(mask) for mask in fish_masks]\n",
    "\n",
    "# TODO Show a segmented image\n",
    "# [show_image(fish_img) for fish_img in fish_images]\n"
   ]
  },
  {
   "cell_type": "markdown",
   "metadata": {},
   "source": [
    "### **Tarea A.7:** Guarde las imágenes"
   ]
  },
  {
   "cell_type": "code",
   "execution_count": null,
   "metadata": {},
   "outputs": [],
   "source": [
    "# TODO Define your output folder and save every fish image\n",
    "output_folder = \"processed_data\"\n",
    "os.makedirs(output_folder, exist_ok=True)\n",
    "save_images = [hsv_imgs, orange_masks, orange_segmented, white_masks, white_segmented, fish_masks, fish_images]\n",
    "save_names = [\"hsv\", \"orange_mask\", \"orange_segmented\", \"white_mask\", \"white_segmented\", \"fish_mask\", \"fish_segmented\"]\n",
    "\n",
    "for count in range(len(imgs)):\n",
    "    for img_name, img_list in zip(save_names, save_images):\n",
    "        write_image(output_folder, img_name=img_name+\"_\"+str(count)+\".jpg\", img=img_list[count])\n"
   ]
  },
  {
   "cell_type": "markdown",
   "metadata": {},
   "source": [
    "### **Pregunta A.1:** Segmente por color el escudo de su equipo deportivo favorito: descompóngalo en al menos 2 colores. "
   ]
  },
  {
   "cell_type": "code",
   "execution_count": null,
   "metadata": {},
   "outputs": [],
   "source": [
    "# TODO Homeworks\n",
    "king_of_the_air = load_images([\"data/king_of_the_air.png\"])[0]\n",
    "# show_image(king_of_the_air, \"Original image\") # Original\n",
    "\n",
    "# get_hsv_color_ranges(king_of_the_air) \n",
    "\n",
    "# colors to segment\n",
    "light_white = (0, 0, 150)\n",
    "dark_white = (255, 50, 255)\n",
    "\n",
    "light_red = (150, 255, 100)\n",
    "dark_red = (255, 255, 255)\n",
    "\n",
    "light_blue = (50, 95, 100)\n",
    "dark_blue = (150, 255, 255)\n",
    "\n",
    "light_green = (50, 80, 0)\n",
    "dark_green = (100, 255, 255)\n",
    "\n",
    "light_yellow = (0, 10, 255)\n",
    "dark_yellow = (100, 255, 255)\n",
    "\n",
    "light_brown = (0, 0, 0)\n",
    "dark_brown = (19, 255, 255)\n",
    "\n",
    "light_gray = (80, 0, 170)\n",
    "dark_gray = (100, 255, 200)\n",
    "\n",
    "lights = [light_white, light_red, light_blue, light_green, light_yellow, light_brown, light_gray]\n",
    "darks = [dark_white, dark_red, dark_blue, dark_green, dark_yellow, dark_brown, dark_gray]\n",
    "extracted_colors = [\"White\", \"Red\", \"Blue\", \"Green\", \"Yellow\", \"Brown\", \"Gray\"]\n",
    "\n",
    "masks = []\n",
    "\n",
    "for light, dark, color in zip(lights, darks, extracted_colors):\n",
    "    \n",
    "    mask = cv2.inRange(cv2.cvtColor(king_of_the_air, cv2.COLOR_BGR2HSV), light, dark) # Generate mask\n",
    "    masks.append(mask)\n",
    "    \n",
    "    segmented = cv2.bitwise_and(king_of_the_air, king_of_the_air, mask = mask) # Segment image\n",
    "    # show_image(segmented, color + \" mask\")\n",
    "    \n",
    "total_mask = sum(masks)\n",
    "\n",
    "segmented = cv2.bitwise_and(king_of_the_air, king_of_the_air, mask = total_mask) # Final segmented\n",
    "# show_image(segmented, \"Total segmented\")"
   ]
  },
  {
   "cell_type": "markdown",
   "metadata": {},
   "source": [
    "### **Pregunta A.2:** ¿Qué ocurre si carga las imágenes con la función ``imageio.read()`` y luego la muestra con el método ``show_image()``? ¿A qué se debe este comportamiento?"
   ]
  },
  {
   "cell_type": "code",
   "execution_count": null,
   "metadata": {},
   "outputs": [
    {
     "name": "stderr",
     "output_type": "stream",
     "text": [
      "C:\\Users\\pablo\\AppData\\Local\\Temp\\ipykernel_11372\\1719476546.py:2: DeprecationWarning: Starting with ImageIO v3 the behavior of this function will switch to that of iio.v3.imread. To keep the current behavior (and make this warning disappear) use `import imageio.v2 as imageio` or call `imageio.v2.imread` directly.\n",
      "  return [imageio.imread(filename) for filename in filenames]\n"
     ]
    }
   ],
   "source": [
    "def load_images(filenames: List) -> List:\n",
    "    return [imageio.imread(filename) for filename in filenames]\n",
    "\n",
    "# TODO Homework: Load images\n",
    "question_imgs = load_images([path for path in glob.glob( \"data/*jpg\" )])\n",
    "\n",
    "# TODO Homework: Show it\n",
    "write_image(output_folder, \"imageio_charged_0.jpg\", question_imgs[0]) # imageio.imread reads images in BGR format\n",
    "write_image(output_folder, \"cv2_charged_0.jpg\", imgs[0]) # cv2.imread reads images in RGB format therefore a conversion is needed"
   ]
  },
  {
   "cell_type": "markdown",
   "metadata": {},
   "source": [
    "## **Apartado B:** Filtro Gaussiano y Detección de bordes: Sobel y Canny"
   ]
  },
  {
   "cell_type": "markdown",
   "metadata": {},
   "source": [
    "El objetivo de este apartado es detectar los bordes de las imágenes de la carpeta ``data``. Para ello, deberá seguir los siguientes pasos:\n",
    "\n",
    "1. **Tarea B.1.** Defina el método ``gaussian_blur()`` que aplique un filtro gausiano para obtener imágenes borrosas. Siga todas las indicaciones del enunciado.\n",
    "2. **Tarea B.2.** Aplique el método ``gaussian_blur()`` a todas las imágenes en ``data``.\n",
    "\n",
    "\n",
    "3. **Tarea B.3.** Defina la función ``sobel_edge_detector()`` que detecte bordes con el método Sobel. Siga todas las indicaciones del enunciado.\n",
    "4. **Tarea B.4.** Aplique el método ``sobel_edge_detector()`` a todas las imágenes en ``data``.\n",
    "\n",
    "\n",
    "5. **Tarea B.5.** Defina la función ``canny_edge_detector()`` que detecte bordes con el método Canny. Siga todas las indicaciones del enunciado.\n",
    "6. **Tarea B.6.** Aplique el método ``canny_edge_detector()`` a todas las imágenes en ``data``."
   ]
  },
  {
   "cell_type": "markdown",
   "metadata": {},
   "source": [
    "### **Tarea B.1:** Defina el método ``gaussian_blur()`` que aplique un filtro gausiano para obtener imágenes borrosas."
   ]
  },
  {
   "cell_type": "code",
   "execution_count": null,
   "metadata": {},
   "outputs": [],
   "source": [
    "# TODO Define the method\n",
    "def gaussian_blur(img: np.array, sigma: float, filter_shape: List | None = None, verbose: bool = False) -> np.array:\n",
    "    # TODO If not given, compute the filter shape \n",
    "    if filter_shape == None:\n",
    "        filter_l = [-(4*sigma + 1), 4*sigma + 1]\n",
    "        \n",
    "    else:\n",
    "        filter_l = filter_shape\n",
    "    \n",
    "    # TODO Create the filter coordinates matrices\n",
    "    y, x = np.mgrid[filter_l[0]//2 + 1:filter_l[1]//2 + 1, filter_l[0]//2 + 1:filter_l[1]//2 + 1]\n",
    "    \n",
    "    # TODO Define the formula that goberns the filter\n",
    "    gaussian_filter = (1 / (2 * np.pi * sigma**2)) * np.exp(-(x**2 + y**2) / (2 * sigma**2))\n",
    "    normalized_gaussian_filterr = gaussian_filter/np.sum(gaussian_filter) \n",
    "\n",
    "    # TODO Process the image\n",
    "    gb_img = cv2.filter2D(img, -1, normalized_gaussian_filterr)\n",
    "    \n",
    "    if verbose:\n",
    "        show_image(img=gb_img, img_name=f\"Gaussian Blur: Sigma = {sigma}\")\n",
    "    \n",
    "    return gaussian_filter, gb_img.astype(np.uint8)"
   ]
  },
  {
   "cell_type": "markdown",
   "metadata": {},
   "source": [
    "### **Tarea B.2.** Aplique el método ``gaussian_blur()`` a todas las imágenes en ``data``."
   ]
  },
  {
   "cell_type": "code",
   "execution_count": null,
   "metadata": {},
   "outputs": [],
   "source": [
    "# TODO Get the gaussian blurred images using a list comprehension\n",
    "gauss_sigma = 3 # The higher the sigma the blurryer the picture\n",
    "# gb_imgs = [gaussian_blur(img, gauss_sigma, verbose=True)for img in imgs]"
   ]
  },
  {
   "cell_type": "markdown",
   "metadata": {},
   "source": [
    "### **Tarea B.3:** Defina la función ``sobel_edge_detector()`` que detecte bordes con el método Sobel."
   ]
  },
  {
   "cell_type": "code",
   "execution_count": null,
   "metadata": {},
   "outputs": [],
   "source": [
    "# TODO Define the method\n",
    "def sobel_edge_detector(img: np.array, filter: np.array, gauss_sigma: float, gauss_filter_shape: List | None = None, verbose: bool = False) -> np.array:\n",
    "    \n",
    "        # TODO Transform the img to grayscale\n",
    "    gray_img = cv2.cvtColor(img, cv2.COLOR_BGR2GRAY)\n",
    "    \n",
    "    if gauss_sigma != 0:\n",
    "        # TODO Get a blurry img to improve edge detections\n",
    "        blurred = gaussian_blur(img=gray_img, sigma=gauss_sigma, filter_shape=gauss_filter_shape, verbose=verbose)\n",
    "\n",
    "        # Re-scale\n",
    "        img = blurred[1] / 255\n",
    "        \n",
    "    else:\n",
    "        img = gray_img / 255\n",
    "    \n",
    "    # TODO Get vertical edges\n",
    "    v_edges = cv2.filter2D(img, -1, filter)\n",
    "    \n",
    "    # TODO Transform the filter to get the orthogonal edges\n",
    "    orthogonal_filter = np.array([[row[column] for row in filter] for column in range(len(filter[0]))])\n",
    "\n",
    "    # TODO Get horizontal edges\n",
    "    h_edges = cv2.filter2D(img, -1, orthogonal_filter)\n",
    "    \n",
    "    # TODO Get edges\n",
    "    sobel_edges_img = np.hypot(v_edges, h_edges)\n",
    "    \n",
    "    # Get edges angle\n",
    "    theta = np.arctan2(h_edges, v_edges)\n",
    "    \n",
    "    # Visualize if needed\n",
    "    if verbose:\n",
    "        show_image(img=sobel_edges_img, img_name=\"Sobel Edges\")\n",
    "    \n",
    "    return sobel_edges_img, theta"
   ]
  },
  {
   "cell_type": "markdown",
   "metadata": {},
   "source": [
    "### **Tarea B.4.** Aplique el método ``sobel_edge_detector()`` a todas las imágenes en ``data``."
   ]
  },
  {
   "cell_type": "code",
   "execution_count": null,
   "metadata": {},
   "outputs": [],
   "source": [
    "# TODO Define a sigma value\n",
    "gauss_sigma = 1\n",
    "\n",
    "# TODO Define the Sobel filter\n",
    "sobel_filter = np.array([[-1, 0, 1], [-2, 0, 2], [-1, 0, 1]])\n",
    "\n",
    "# TODO Get the edges detected by Sobel using a list comprehension\n",
    "# sobel_edges_imgs = [sobel_edge_detector(img, sobel_filter, gauss_sigma, verbose = True)for img in imgs]"
   ]
  },
  {
   "cell_type": "markdown",
   "metadata": {},
   "source": [
    "### **Tarea B.5:** Defina la función ``canny_edge_detector()`` que detecte bordes con el método Canny."
   ]
  },
  {
   "cell_type": "code",
   "execution_count": null,
   "metadata": {},
   "outputs": [],
   "source": [
    "# TODO Define the method\n",
    "def canny_edge_detector(img: np.array, sobel_filter: np.array, gauss_sigma: float, gauss_filter_shape: List | None = None, verbose: bool = False):\n",
    "    # TODO Call the method sobel_edge_detector()\n",
    "    sobel_edges_img, theta = sobel_edge_detector(img, sobel_filter, gauss_sigma, verbose= verbose)\n",
    "    \n",
    "    sobel_edges = np.int8(np.squeeze(sobel_edges_img))\n",
    "    theta = np.int32(np.squeeze(theta))\n",
    "    \n",
    "    # TODO Use NMS to refine edges\n",
    "    canny_edges_img = non_max_suppression(sobel_edges_img, theta)\n",
    "    \n",
    "    if verbose:\n",
    "        show_image(img=canny_edges_img, img_name=\"Canny Edges\")\n",
    "        \n",
    "    return canny_edges_img"
   ]
  },
  {
   "cell_type": "markdown",
   "metadata": {},
   "source": [
    "### **Tarea B.6.** Aplique el método ``canny_edge_detector()`` a todas las imágenes en ``data``."
   ]
  },
  {
   "cell_type": "code",
   "execution_count": null,
   "metadata": {},
   "outputs": [],
   "source": [
    "# TODO Define Sobel filter\n",
    "sobel_filter = np.array([[-1, 0, 1], [-2, 0, 2], [-1, 0, 1]])\n",
    "\n",
    "# TODO Define a sigma value for Gauss\n",
    "gauss_sigma = 1\n",
    "\n",
    "# TODO Define a Gauss filter shape\n",
    "gauss_filter_shape = [-5, 5]\n",
    "\n",
    "# TODO Get the edges detected by Canny using a list comprehension\n",
    "# canny_edges = [canny_edge_detector(img, sobel_filter, gauss_sigma, gauss_filter_shape, verbose = True) for img in imgs]"
   ]
  },
  {
   "cell_type": "markdown",
   "metadata": {},
   "source": [
    "### **Pregunta B.1:** Añada ruido a las imágenes de la carpeta ``data``. Compare los resultados que obtiene al aplicar su filtro Sobel con y sin filtro Gausiano."
   ]
  },
  {
   "cell_type": "code",
   "execution_count": null,
   "metadata": {},
   "outputs": [
    {
     "name": "stderr",
     "output_type": "stream",
     "text": [
      "C:\\Users\\pablo\\AppData\\Local\\Temp\\ipykernel_22232\\3817756187.py:2: DeprecationWarning: Starting with ImageIO v3 the behavior of this function will switch to that of iio.v3.imread. To keep the current behavior (and make this warning disappear) use `import imageio.v2 as imageio` or call `imageio.v2.imread` directly.\n",
      "  return [imageio.imread(filename) for filename in filenames]\n"
     ]
    }
   ],
   "source": [
    "# Generate messy images\n",
    "count = 0\n",
    "\n",
    "noisy_imgs = []\n",
    "\n",
    "while count < len(imgs):\n",
    "    noisy_matrix = np.random.normal(255//2, 25, (imgs[count].shape))\n",
    "    \n",
    "    if np.all(noisy_matrix >= 0) and np.all(noisy_matrix <= 255): # Verify the matrix in the correct range\n",
    "        noisy_imgs.append(noisy_matrix + imgs[count]) # Add noise to the image\n",
    "        \n",
    "        count += 1\n",
    "        \n",
    "\n",
    "os.makedirs(\"noisy_data\", exist_ok=True)\n",
    "\n",
    "# [show_image(img) for img in noisy_imgs]       \n",
    "[write_image(\"noisy_data\", f\"noisy_{count}.jpg\", img) for count, img in enumerate(noisy_imgs)]\n",
    "\n",
    "noisy_imgs = load_images([path for path in glob.glob( \"noisy_data/*jpg\" )])"
   ]
  },
  {
   "cell_type": "code",
   "execution_count": null,
   "metadata": {},
   "outputs": [],
   "source": [
    "# Shovel on messy with gaussian blur\n",
    "gauss_sigma = 1\n",
    "sobel_filter = np.array([[-1, 0, 1], [-2, 0, 2], [-1, 0, 1]])\n",
    "gauss_filter_shape = [-5, 5]\n",
    "\n",
    "# noisy_shovel_gauss = [sobel_edge_detector(img, sobel_filter, gauss_sigma, verbose = True)for img in noisy_imgs]\n",
    "\n",
    "# Shovel on messy without gaussian blur\n",
    "\n",
    "gauss_sigma = 0\n",
    "\n",
    "# noisy_shovel = [sobel_edge_detector(img, sobel_filter, gauss_sigma, verbose = True)for img in noisy_imgs]"
   ]
  },
  {
   "cell_type": "markdown",
   "metadata": {},
   "source": [
    "### **Pregunta B.2:** Utilice la librería ``scikit-image`` y compare el efecto de los filtros Sobel, Canny y Prewitt sobre las imágenes de la carpeta ``data``. ¿Qué diferencias observa entre los filtros? ¿Puede obtener alguna conclusión y/o patrón?"
   ]
  },
  {
   "cell_type": "code",
   "execution_count": null,
   "metadata": {},
   "outputs": [],
   "source": [
    "# TODO Homework\n",
    "gauss_sigma = 1\n",
    "sobel_filter = np.array([[-1, 0, 1], [-2, 0, 2], [-1, 0, 1]])\n",
    "\n",
    "# for img in imgs:\n",
    "#     gray_img = cv2.cvtColor(img, cv2.COLOR_BGR2GRAY)\n",
    "\n",
    "#     cv2.imshow(\"Original image\", img)\n",
    "    \n",
    "#     cv2.imshow(\"Programmed Sobel\", sobel_edge_detector(img, sobel_filter, gauss_sigma, verbose = False)[0])\n",
    "#     cv2.imshow(\"Scikit Sobel\", ski.filters.sobel(gray_img))\n",
    "    \n",
    "#     cv2.imshow(\"Programmed Canny\", canny_edge_detector(img, sobel_filter, gauss_sigma, verbose = False))\n",
    "#     canny_edges = ski.feature.canny(gray_img, sigma = gauss_sigma)\n",
    "#     canny_edges = np.uint8(canny_edges) * 255\n",
    "#     cv2.imshow(\"Scikit Canny\", canny_edges)\n",
    "    \n",
    "#     cv2.imshow(\"Scikit Prewitt\", ski.filters.prewitt(gray_img))\n",
    "    \n",
    "#     cv2.waitKey(0)\n",
    "#     cv2.destroyAllWindows()"
   ]
  },
  {
   "cell_type": "markdown",
   "metadata": {},
   "source": [
    "## **Apartado C (Opcional):** Operadores Morfológicos"
   ]
  },
  {
   "cell_type": "markdown",
   "metadata": {},
   "source": [
    "Para resolver este partado, deberá seguir los siguientes pasos:\n",
    "\n",
    "1. **Tarea C.1.** Defina el método ``binarize()`` para binarizar imágenes.\n",
    "2. **Tarea C.2.** Defina el método ``custom_dilate()``.\n",
    "3. **Tarea C.3.** Defina el método ``custom_erode()``.\n",
    "4. **Pregunta C.1** Aplique los métodos ``custom_dilate()`` y ``custom_erode()`` a todas las imágenes de la carpeta ``data``.\n"
   ]
  },
  {
   "cell_type": "markdown",
   "metadata": {},
   "source": [
    "### **Tarea C.1.** Defina el método ``binarize()`` para binarizar imágenes."
   ]
  },
  {
   "cell_type": "code",
   "execution_count": null,
   "metadata": {},
   "outputs": [],
   "source": [
    "# TODO Homework: define the binarization method\n",
    "def binarize(img: np.array, mode:str = \"Threshold\", threshold: int = 127):\n",
    "    \n",
    "    gray_img = cv2.cvtColor(img, cv2.COLOR_BGR2GRAY)\n",
    "    \n",
    "    if mode != \"Threshold\":\n",
    "        _, blurry_img = gaussian_blur(gray_img, 1, [-7, 7])\n",
    "        _, binary_img = cv2.threshold(blurry_img, 0.0, 255.0, cv2.THRESH_BINARY+cv2.THRESH_OTSU)\n",
    "        \n",
    "    else: # Much better work than Otsu\n",
    "        _, binary_img = cv2.threshold(gray_img, threshold ,255,cv2.THRESH_BINARY)\n",
    "    \n",
    "    return binary_img\n",
    "\n",
    "# [show_image(binarize(img)) for img in imgs]"
   ]
  },
  {
   "cell_type": "markdown",
   "metadata": {},
   "source": [
    "### **Tarea C.2.** Defina el método ``custom_dilate()``"
   ]
  },
  {
   "cell_type": "code",
   "execution_count": null,
   "metadata": {},
   "outputs": [],
   "source": [
    "# TODO Homework: define the dilation method\n",
    "def custom_dilate(img: np.ndarray):\n",
    "    img = binarize(img)\n",
    "    \n",
    "    # TODO pad the original image so it can keep dimensions after processing\n",
    "    padded = np.pad(img, pad_width=1, mode='constant', constant_values=0)\n",
    "\n",
    "    # TODO get img shape\n",
    "    height, width = img.shape\n",
    "\n",
    "    # TODO Create an element with the same dimensions as the padded img\n",
    "    dilated = np.zeros_like(padded)\n",
    "\n",
    "    for j in range(1, height + 1):\n",
    "        for i in range(1, width + 1):\n",
    "            # TODO Add logic to the operation\n",
    "            dilated[j, i] = max([padded[j_p, i_p] for j_p in range(j-1, j+2) for i_p in range(i-1, i+2)])\n",
    "            \n",
    "    # TODO Select the region of interest (ROI). Modify if needed\n",
    "    dilated = dilated[1:height+1, 1:width+1]\n",
    "    \n",
    "    return dilated\n",
    "\n",
    "\n",
    "dilated_imgs = [custom_dilate(img) for img in imgs]"
   ]
  },
  {
   "cell_type": "markdown",
   "metadata": {},
   "source": [
    "### **Tarea C.3.** Defina el método ``custom_erode()``"
   ]
  },
  {
   "cell_type": "code",
   "execution_count": null,
   "metadata": {},
   "outputs": [],
   "source": [
    "# TODO Homework: define the erotion method\n",
    "def custom_erode(img: np.ndarray):\n",
    "    img = binarize(img)\n",
    "\n",
    "    # TODO pad the original image so it can keep dimensions after processing\n",
    "    padded = np.pad(img, pad_width=1, mode='constant', constant_values=255)\n",
    "\n",
    "    # TODO get img shape\n",
    "    height, width = img.shape\n",
    "\n",
    "    # TODO Create an element with the same dimensions as the padded img\n",
    "    eroded = np.zeros_like(padded)\n",
    "\n",
    "    for j in range(1, height + 1):\n",
    "        for i in range(1, width + 1):\n",
    "            # TODO Add logic to the operation\n",
    "            eroded[j, i] = min([padded[j_p, i_p] for j_p in range(j-1, j+2) for i_p in range(i-1, i+2)])\n",
    "            \n",
    "    # TODO Select the region of interest (ROI). Modify if needed\n",
    "    eroded = eroded[1:height+1, 1:width+1]\n",
    "    \n",
    "    return eroded\n",
    "\n",
    "eroded_imgs = [custom_erode(img) for img in imgs]"
   ]
  },
  {
   "cell_type": "markdown",
   "metadata": {},
   "source": [
    "### **Pregunta C.1** Aplique los métodos ``custom_dilate()`` y ``custom_erode()`` a todas las imágenes de la carpeta ``data``."
   ]
  },
  {
   "cell_type": "code",
   "execution_count": null,
   "metadata": {},
   "outputs": [
    {
     "data": {
      "text/plain": [
       "[None, None, None, None, None, None]"
      ]
     },
     "execution_count": 79,
     "metadata": {},
     "output_type": "execute_result"
    }
   ],
   "source": [
    "# TODO Homework\n",
    "\n",
    "[write_image(output_folder, img_name=\"dilated_\"+str(count)+\".jpg\", img=img) for count, img in enumerate(dilated_imgs)]\n",
    "[write_image(output_folder, img_name=\"eroded_\"+str(count)+\".jpg\", img=img) for count, img in enumerate(eroded_imgs)]"
   ]
  }
 ],
 "metadata": {
  "kernelspec": {
   "display_name": "Python 3",
   "language": "python",
   "name": "python3"
  },
  "language_info": {
   "codemirror_mode": {
    "name": "ipython",
    "version": 3
   },
   "file_extension": ".py",
   "mimetype": "text/x-python",
   "name": "python",
   "nbconvert_exporter": "python",
   "pygments_lexer": "ipython3",
   "version": "3.11.7"
  }
 },
 "nbformat": 4,
 "nbformat_minor": 2
}
