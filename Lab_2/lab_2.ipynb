{
 "cells": [
  {
   "cell_type": "markdown",
   "metadata": {},
   "source": [
    "# **Sesión 2:** Procesamiento de Imágenes ⚙️🖼️"
   ]
  },
  {
   "cell_type": "markdown",
   "metadata": {},
   "source": [
    "## **Instalaciones**"
   ]
  },
  {
   "cell_type": "code",
   "execution_count": 2,
   "metadata": {},
   "outputs": [],
   "source": [
    "# !pip install scikit-image"
   ]
  },
  {
   "cell_type": "markdown",
   "metadata": {},
   "source": [
    "## **Librerías**"
   ]
  },
  {
   "cell_type": "code",
   "execution_count": 3,
   "metadata": {},
   "outputs": [],
   "source": [
    "import os\n",
    "import cv2\n",
    "import glob\n",
    "import imageio\n",
    "import numpy as np\n",
    "from typing import List\n",
    "from utils import non_max_suppression, get_hsv_color_ranges"
   ]
  },
  {
   "cell_type": "markdown",
   "metadata": {},
   "source": [
    "## **Apartado A: Segmentación por color**"
   ]
  },
  {
   "cell_type": "markdown",
   "metadata": {},
   "source": [
    "El objetivo de este apartado es segmentar los colores naranja y blanco de las imágenes en la carpeta ``data``.\n",
    "\n",
    "1. **Tarea A.1**. Defina y ejecute el método para cargar imágenes ``load_imgs()``.\n",
    "2. **Tarea A.2.** Defina los métodos ``show_image()`` y ``write_image()`` para visualizar y guardar imágenes.\n",
    "3. **Tarea A.3.** Cambia el espacio de color de las imágenes a uno donde la crominancia y la intensidad estén separados (HSV).\n",
    "4. **Tarea A.4.** Segmenta los colores anaranjados.\n",
    "5. **Tarea A.5.** Segmenta los colores blancos.\n",
    "6. **Tarea A.6.** Junta las máscaras para cada imagen (naranja + blanco) y segmenta cada una de ellas.\n",
    "7. **Tarea A.7.** Guarda las imágenes."
   ]
  },
  {
   "cell_type": "markdown",
   "metadata": {},
   "source": [
    "### **Tarea A.1:** Defina y ejecute el método para cargar imágenes ``load_images()``"
   ]
  },
  {
   "cell_type": "code",
   "execution_count": 4,
   "metadata": {},
   "outputs": [],
   "source": [
    "def load_images(filenames: List) -> List:\n",
    "    return [cv2.imread(filename) for filename in filenames]"
   ]
  },
  {
   "cell_type": "code",
   "execution_count": 5,
   "metadata": {},
   "outputs": [],
   "source": [
    "# TODO Build a list containing the paths of all images in the data folder\n",
    "imgs_path = [path for path in glob.glob( \"data/*jpg\" )]\n",
    "imgs = load_images(imgs_path)"
   ]
  },
  {
   "cell_type": "markdown",
   "metadata": {},
   "source": [
    "### **Tarea A.2**. Defina los métodos ``show_image()`` y ``write_image()`` para visualizar y guardar imágenes"
   ]
  },
  {
   "cell_type": "code",
   "execution_count": 6,
   "metadata": {},
   "outputs": [],
   "source": [
    "# TODO Complete the method, use every argument\n",
    "def show_image(img: np.array, img_name: str = \"Image\"):\n",
    "    cv2.imshow(img_name, img)\n",
    "    cv2.waitKey(0)\n",
    "    cv2.destroyAllWindows()\n",
    "\n",
    "# TODO Complete the method, use every argument\n",
    "def write_image(output_folder: str, img_name: str, img: np.array):\n",
    "    img_path = os.path.join(output_folder, img_name)\n",
    "    cv2.imwrite(img_path, img)"
   ]
  },
  {
   "cell_type": "markdown",
   "metadata": {},
   "source": [
    "### **Tarea A.3:** Cambie el espacio de color de las imágenes a uno donde la crominancia y la intensidad estén separados (HSV)"
   ]
  },
  {
   "cell_type": "code",
   "execution_count": 7,
   "metadata": {},
   "outputs": [],
   "source": [
    "# TODO Get a list with ìmgs in HSV color space\n",
    "hsv_imgs = [cv2.cvtColor(img, cv2.COLOR_BGR2HSV) for img in imgs]\n",
    "\n",
    "# [show_image(img) for img in hsv_imgs]"
   ]
  },
  {
   "cell_type": "markdown",
   "metadata": {},
   "source": [
    "### **Tarea A.4:** Segmente los colores anaranjados"
   ]
  },
  {
   "cell_type": "code",
   "execution_count": 8,
   "metadata": {},
   "outputs": [],
   "source": [
    "# TODO Define orange color range\n",
    "light_orange = (1, 190, 200)\n",
    "dark_orange = (255, 255, 255)\n",
    "\n",
    "# TODO Compute a list that contains a mask (which should segment orange colors) for every image.\n",
    "orange_masks = [cv2.inRange(img, light_orange, dark_orange) for img in hsv_imgs]\n",
    "\n",
    "# TODO Compute a list that contains the result of multiplying the original image with its orange colors mask.\n",
    "orange_segmented = [cv2.bitwise_and(img, img, mask = mask) for img,mask in zip(imgs, orange_masks)]\n",
    "\n",
    "# TODO Show an original image\n",
    "# [show_image(img) for img in imgs]\n",
    "\n",
    "# TODO Show a mask\n",
    "# [show_image(mask) for mask in orange_masks]\n",
    "\n",
    "# TODO Show a segmented image\n",
    "# [show_image(img) for img in orange_segmented]\n"
   ]
  },
  {
   "cell_type": "markdown",
   "metadata": {},
   "source": [
    "### **Tarea A.5:** Segmente los colores blancos."
   ]
  },
  {
   "cell_type": "markdown",
   "metadata": {},
   "source": [
    "Para detectar el rango de blancos complete la siguiente celda y ejecutela para investigar el rango de valores necesarios."
   ]
  },
  {
   "cell_type": "code",
   "execution_count": 9,
   "metadata": {},
   "outputs": [],
   "source": [
    "# TODO Discover white color ranges\n",
    "# get_hsv_color_ranges(imgs[-4]) \n",
    "\n",
    "# TODO Define white color range\n",
    "light_white = (0, 0, 150)\n",
    "dark_white = (255, 50, 255)\n",
    "\n",
    "# TODO Compute a list that contains a mask (which should segment white colors) for every image.\n",
    "white_masks = [cv2.inRange(img, light_white, dark_white) for img in hsv_imgs]\n",
    "\n",
    "# TODO Compute a list that contains the result of multiplying the original image with its white colors mask.\n",
    "white_segmented = [cv2.bitwise_and(img, img, mask = mask) for img, mask in zip(imgs, white_masks)]\n",
    "\n",
    "# TODO Show an original image\n",
    "# [show_image(img) for img in imgs]\n",
    "\n",
    "# TODO Show a mask\n",
    "# [show_image(mask) for mask in white_masks]\n",
    "\n",
    "# TODO Show a segmented image\n",
    "# [show_image(img) for img in white_segmented]"
   ]
  },
  {
   "cell_type": "markdown",
   "metadata": {},
   "source": [
    "### **Tarea A.6:** Junte las máscaras para cada imagen (naranja + blanco) y segmente cada una de ellas."
   ]
  },
  {
   "cell_type": "code",
   "execution_count": 10,
   "metadata": {},
   "outputs": [],
   "source": [
    "# TODO Join orange_masks and white_masks\n",
    "fish_masks = [orange_mask + white_mask for orange_mask, white_mask in zip(orange_masks, white_masks)]\n",
    "    \n",
    "# TODO Compute a list that contains the result of multiplying the original image with its complete mask.\n",
    "fish_images = [cv2.bitwise_and(img, img, mask = mask) for img, mask in zip(imgs, fish_masks)]\n",
    "\n",
    "# TODO Show an original image\n",
    "# [show_image(img) for img in imgs]\n",
    "\n",
    "# TODO Show a mask\n",
    "# [show_image(mask) for mask in fish_masks]\n",
    "\n",
    "# TODO Show a segmented image\n",
    "# [show_image(fish_img) for fish_img in fish_images]\n"
   ]
  },
  {
   "cell_type": "markdown",
   "metadata": {},
   "source": [
    "### **Tarea A.7:** Guarde las imágenes"
   ]
  },
  {
   "cell_type": "code",
   "execution_count": 11,
   "metadata": {},
   "outputs": [],
   "source": [
    "# TODO Define your output folder and save every fish image\n",
    "output_folder = \"processed_data\"\n",
    "os.makedirs(output_folder, exist_ok=True)\n",
    "save_images = [hsv_imgs, orange_masks, orange_segmented, white_masks, white_segmented, fish_masks, fish_images]\n",
    "save_names = [\"hsv\", \"orange_mask\", \"orange_segmented\", \"white_mask\", \"white_segmented\", \"fish_mask\", \"fish_segmented\"]\n",
    "\n",
    "for count in range(len(imgs)):\n",
    "    for img_name, img_list in zip(save_names, save_images):\n",
    "        write_image(output_folder, img_name=img_name+\"_\"+str(count)+\".png\", img=img_list[count])\n"
   ]
  },
  {
   "cell_type": "markdown",
   "metadata": {},
   "source": [
    "### **Pregunta A.1:** Segmente por color el escudo de su equipo deportivo favorito: descompóngalo en al menos 2 colores. "
   ]
  },
  {
   "cell_type": "code",
   "execution_count": 12,
   "metadata": {},
   "outputs": [],
   "source": [
    "# TODO Homework"
   ]
  },
  {
   "cell_type": "markdown",
   "metadata": {},
   "source": [
    "### **Pregunta A.2:** ¿Qué ocurre si carga las imágenes con la función ``imageio.read()`` y luego la muestra con el método ``show_image()``? ¿A qué se debe este comportamiento?"
   ]
  },
  {
   "cell_type": "code",
   "execution_count": 13,
   "metadata": {},
   "outputs": [
    {
     "ename": "TypeError",
     "evalue": "'NoneType' object is not iterable",
     "output_type": "error",
     "traceback": [
      "\u001b[1;31m---------------------------------------------------------------------------\u001b[0m",
      "\u001b[1;31mTypeError\u001b[0m                                 Traceback (most recent call last)",
      "Cell \u001b[1;32mIn[13], line 5\u001b[0m\n\u001b[0;32m      2\u001b[0m     \u001b[38;5;28;01mreturn\u001b[39;00m [imageio\u001b[38;5;241m.\u001b[39mimread(filename) \u001b[38;5;28;01mfor\u001b[39;00m filename \u001b[38;5;129;01min\u001b[39;00m filenames]\n\u001b[0;32m      4\u001b[0m \u001b[38;5;66;03m# TODO Homework: Load images\u001b[39;00m\n\u001b[1;32m----> 5\u001b[0m question_imgs \u001b[38;5;241m=\u001b[39m \u001b[43mload_images\u001b[49m\u001b[43m(\u001b[49m\u001b[38;5;28;43;01mNone\u001b[39;49;00m\u001b[43m)\u001b[49m\n\u001b[0;32m      8\u001b[0m \u001b[38;5;66;03m# TODO Homework: Show it\u001b[39;00m\n\u001b[0;32m      9\u001b[0m show_image(\u001b[38;5;28;01mNone\u001b[39;00m)\n",
      "Cell \u001b[1;32mIn[13], line 2\u001b[0m, in \u001b[0;36mload_images\u001b[1;34m(filenames)\u001b[0m\n\u001b[0;32m      1\u001b[0m \u001b[38;5;28;01mdef\u001b[39;00m \u001b[38;5;21mload_images\u001b[39m(filenames: List) \u001b[38;5;241m-\u001b[39m\u001b[38;5;241m>\u001b[39m List:\n\u001b[1;32m----> 2\u001b[0m     \u001b[38;5;28;01mreturn\u001b[39;00m \u001b[43m[\u001b[49m\u001b[43mimageio\u001b[49m\u001b[38;5;241;43m.\u001b[39;49m\u001b[43mimread\u001b[49m\u001b[43m(\u001b[49m\u001b[43mfilename\u001b[49m\u001b[43m)\u001b[49m\u001b[43m \u001b[49m\u001b[38;5;28;43;01mfor\u001b[39;49;00m\u001b[43m \u001b[49m\u001b[43mfilename\u001b[49m\u001b[43m \u001b[49m\u001b[38;5;129;43;01min\u001b[39;49;00m\u001b[43m \u001b[49m\u001b[43mfilenames\u001b[49m\u001b[43m]\u001b[49m\n",
      "\u001b[1;31mTypeError\u001b[0m: 'NoneType' object is not iterable"
     ]
    }
   ],
   "source": [
    "def load_images(filenames: List) -> List:\n",
    "    return [imageio.imread(filename) for filename in filenames]\n",
    "\n",
    "# TODO Homework: Load images\n",
    "question_imgs = load_images(None)\n",
    "\n",
    "\n",
    "# TODO Homework: Show it\n",
    "show_image(None)"
   ]
  },
  {
   "cell_type": "markdown",
   "metadata": {},
   "source": [
    "## **Apartado B:** Filtro Gaussiano y Detección de bordes: Sobel y Canny"
   ]
  },
  {
   "cell_type": "markdown",
   "metadata": {},
   "source": [
    "El objetivo de este apartado es detectar los bordes de las imágenes de la carpeta ``data``. Para ello, deberá seguir los siguientes pasos:\n",
    "\n",
    "1. **Tarea B.1.** Defina el método ``gaussian_blur()`` que aplique un filtro gausiano para obtener imágenes borrosas. Siga todas las indicaciones del enunciado.\n",
    "2. **Tarea B.2.** Aplique el método ``gaussian_blur()`` a todas las imágenes en ``data``.\n",
    "\n",
    "\n",
    "3. **Tarea B.3.** Defina la función ``sobel_edge_detector()`` que detecte bordes con el método Sobel. Siga todas las indicaciones del enunciado.\n",
    "4. **Tarea B.4.** Aplique el método ``sobel_edge_detector()`` a todas las imágenes en ``data``.\n",
    "\n",
    "\n",
    "5. **Tarea B.5.** Defina la función ``canny_edge_detector()`` que detecte bordes con el método Canny. Siga todas las indicaciones del enunciado.\n",
    "6. **Tarea B.6.** Aplique el método ``canny_edge_detector()`` a todas las imágenes en ``data``."
   ]
  },
  {
   "cell_type": "markdown",
   "metadata": {},
   "source": [
    "### **Tarea B.1:** Defina el método ``gaussian_blur()`` que aplique un filtro gausiano para obtener imágenes borrosas."
   ]
  },
  {
   "cell_type": "code",
   "execution_count": 36,
   "metadata": {},
   "outputs": [],
   "source": [
    "# TODO Define the method\n",
    "def gaussian_blur(img: np.array, sigma: float, filter_shape: List | None = None, verbose: bool = False) -> np.array:\n",
    "    # TODO If not given, compute the filter shape \n",
    "    if filter_shape == None:\n",
    "        filter_l = [-(4*sigma + 1), 4*sigma + 1]\n",
    "        \n",
    "    else:\n",
    "        filter_l = filter_shape\n",
    "    \n",
    "    # TODO Create the filter coordinates matrices\n",
    "    y, x = np.mgrid[filter_l[0]//2 + 1:filter_l[1]//2 + 1, filter_l[0]//2 + 1:filter_l[1]//2 + 1]\n",
    "    \n",
    "    # TODO Define the formula that goberns the filter\n",
    "    gaussian_filter = (1 / (2 * np.pi * sigma**2)) * np.exp(-(x**2 + y**2) / (2 * sigma**2))\n",
    "    normalized_gaussian_filterr = gaussian_filter/np.sum(gaussian_filter) \n",
    "\n",
    "    # TODO Process the image\n",
    "    gb_img = cv2.filter2D(img, -1, normalized_gaussian_filterr)\n",
    "    \n",
    "    if verbose:\n",
    "        show_image(img=gb_img, img_name=f\"Gaussian Blur: Sigma = {sigma}\")\n",
    "    \n",
    "    return gaussian_filter, gb_img.astype(np.uint8)"
   ]
  },
  {
   "cell_type": "markdown",
   "metadata": {},
   "source": [
    "### **Tarea B.2.** Aplique el método ``gaussian_blur()`` a todas las imágenes en ``data``."
   ]
  },
  {
   "cell_type": "code",
   "execution_count": 30,
   "metadata": {},
   "outputs": [],
   "source": [
    "# TODO Get the gaussian blurred images using a list comprehension\n",
    "gauss_sigma = 3 # The higher the sigma the blurryer the picture\n",
    "gb_imgs = [gaussian_blur(img, gauss_sigma, verbose=True)for img in imgs]"
   ]
  },
  {
   "cell_type": "markdown",
   "metadata": {},
   "source": [
    "### **Tarea B.3:** Defina la función ``sobel_edge_detector()`` que detecte bordes con el método Sobel."
   ]
  },
  {
   "cell_type": "code",
   "execution_count": 15,
   "metadata": {},
   "outputs": [],
   "source": [
    "# TODO Define the method\n",
    "def sobel_edge_detector(img: np.array, filter: np.array, gauss_sigma: float, gauss_filter_shape: List | None = None, verbose: bool = False) -> np.array:\n",
    "    # TODO Transform the img to grayscale\n",
    "    gray_img = cv2.cvtColor(img, cv2.COLOR_BGR2GRAY)\n",
    "    \n",
    "    # TODO Get a blurry img to improve edge detections\n",
    "    blurred = gaussian_blur(img=gray_img, sigma=gauss_sigma, filter_shape=gauss_filter_shape, verbose=verbose)\n",
    "\n",
    "    # Re-scale\n",
    "    blurred = blurred[1] / 255\n",
    "    \n",
    "    # TODO Get vertical edges\n",
    "    v_edges = cv2.filter2D(blurred, -1, filter)\n",
    "    \n",
    "    # TODO Transform the filter to get the orthogonal edges\n",
    "    orthogonal_filter = np.array([[row[column] for row in filter] for column in range(len(filter[0]))])\n",
    "\n",
    "    # TODO Get horizontal edges\n",
    "    h_edges = cv2.filter2D(blurred, -1, orthogonal_filter)\n",
    "    \n",
    "    # TODO Get edges\n",
    "    sobel_edges_img = np.hypot(v_edges, h_edges)\n",
    "    \n",
    "    # Get edges angle\n",
    "    theta = np.arctan2(v_edges, h_edges)\n",
    "    \n",
    "    # Visualize if needed\n",
    "    if verbose:\n",
    "        show_image(img=sobel_edges_img, img_name=\"Sobel Edges\")\n",
    "    \n",
    "    return np.int8(np.squeeze(sobel_edges_img)), np.int32(np.squeeze(theta))"
   ]
  },
  {
   "cell_type": "markdown",
   "metadata": {},
   "source": [
    "### **Tarea B.4.** Aplique el método ``sobel_edge_detector()`` a todas las imágenes en ``data``."
   ]
  },
  {
   "cell_type": "code",
   "execution_count": 66,
   "metadata": {},
   "outputs": [],
   "source": [
    "# TODO Define a sigma value\n",
    "gauss_sigma = 1\n",
    "\n",
    "# TODO Define the Sobel filter\n",
    "sobel_filter = np.array([[-1, 0, 1], [-2, 0, 2], [-1, 0, 1]])\n",
    "\n",
    "# TODO Get the edges detected by Sobel using a list comprehension\n",
    "sobel_edges_imgs = [sobel_edge_detector(img, sobel_filter, gauss_sigma, verbose = True)for img in imgs]"
   ]
  },
  {
   "cell_type": "markdown",
   "metadata": {},
   "source": [
    "### **Tarea B.5:** Defina la función ``canny_edge_detector()`` que detecte bordes con el método Canny."
   ]
  },
  {
   "cell_type": "code",
   "execution_count": 16,
   "metadata": {},
   "outputs": [],
   "source": [
    "# TODO Define the method\n",
    "def canny_edge_detector(img: np.array, sobel_filter: np.array, gauss_sigma: float, gauss_filter_shape: List | None = None, verbose: bool = False):\n",
    "    # TODO Call the method sobel_edge_detector()\n",
    "    sobel_edges_img, theta = sobel_edge_detector(img, sobel_filter, gauss_sigma, verbose= True)\n",
    "    \n",
    "    # TODO Use NMS to refine edges\n",
    "    canny_edges_img = non_max_suppression(sobel_edges_img, theta)\n",
    "    \n",
    "    if verbose:\n",
    "        show_image(canny_edges_img, img_name=\"Canny Edges\")\n",
    "        \n",
    "    return canny_edges_img"
   ]
  },
  {
   "cell_type": "markdown",
   "metadata": {},
   "source": [
    "### **Tarea B.6.** Aplique el método ``canny_edge_detector()`` a todas las imágenes en ``data``."
   ]
  },
  {
   "cell_type": "code",
   "execution_count": 28,
   "metadata": {},
   "outputs": [
    {
     "ename": "KeyboardInterrupt",
     "evalue": "",
     "output_type": "error",
     "traceback": [
      "\u001b[1;31m---------------------------------------------------------------------------\u001b[0m",
      "\u001b[1;31mKeyboardInterrupt\u001b[0m                         Traceback (most recent call last)",
      "Cell \u001b[1;32mIn[28], line 11\u001b[0m\n\u001b[0;32m      8\u001b[0m gauss_filter_shape \u001b[38;5;241m=\u001b[39m [\u001b[38;5;241m-\u001b[39m\u001b[38;5;241m5\u001b[39m, \u001b[38;5;241m5\u001b[39m]\n\u001b[0;32m     10\u001b[0m \u001b[38;5;66;03m# TODO Get the edges detected by Canny using a list comprehension\u001b[39;00m\n\u001b[1;32m---> 11\u001b[0m canny_edges \u001b[38;5;241m=\u001b[39m \u001b[43m[\u001b[49m\u001b[43mcanny_edge_detector\u001b[49m\u001b[43m(\u001b[49m\u001b[43mimg\u001b[49m\u001b[43m,\u001b[49m\u001b[43m \u001b[49m\u001b[43msobel_filter\u001b[49m\u001b[43m,\u001b[49m\u001b[43m \u001b[49m\u001b[43mgauss_sigma\u001b[49m\u001b[43m,\u001b[49m\u001b[43m \u001b[49m\u001b[43mverbose\u001b[49m\u001b[43m \u001b[49m\u001b[38;5;241;43m=\u001b[39;49m\u001b[43m \u001b[49m\u001b[38;5;28;43;01mTrue\u001b[39;49;00m\u001b[43m)\u001b[49m\u001b[43m \u001b[49m\u001b[38;5;28;43;01mfor\u001b[39;49;00m\u001b[43m \u001b[49m\u001b[43mimg\u001b[49m\u001b[43m \u001b[49m\u001b[38;5;129;43;01min\u001b[39;49;00m\u001b[43m \u001b[49m\u001b[43mimgs\u001b[49m\u001b[43m]\u001b[49m\n",
      "Cell \u001b[1;32mIn[28], line 11\u001b[0m, in \u001b[0;36m<listcomp>\u001b[1;34m(.0)\u001b[0m\n\u001b[0;32m      8\u001b[0m gauss_filter_shape \u001b[38;5;241m=\u001b[39m [\u001b[38;5;241m-\u001b[39m\u001b[38;5;241m5\u001b[39m, \u001b[38;5;241m5\u001b[39m]\n\u001b[0;32m     10\u001b[0m \u001b[38;5;66;03m# TODO Get the edges detected by Canny using a list comprehension\u001b[39;00m\n\u001b[1;32m---> 11\u001b[0m canny_edges \u001b[38;5;241m=\u001b[39m [\u001b[43mcanny_edge_detector\u001b[49m\u001b[43m(\u001b[49m\u001b[43mimg\u001b[49m\u001b[43m,\u001b[49m\u001b[43m \u001b[49m\u001b[43msobel_filter\u001b[49m\u001b[43m,\u001b[49m\u001b[43m \u001b[49m\u001b[43mgauss_sigma\u001b[49m\u001b[43m,\u001b[49m\u001b[43m \u001b[49m\u001b[43mverbose\u001b[49m\u001b[43m \u001b[49m\u001b[38;5;241;43m=\u001b[39;49m\u001b[43m \u001b[49m\u001b[38;5;28;43;01mTrue\u001b[39;49;00m\u001b[43m)\u001b[49m \u001b[38;5;28;01mfor\u001b[39;00m img \u001b[38;5;129;01min\u001b[39;00m imgs]\n",
      "Cell \u001b[1;32mIn[16], line 10\u001b[0m, in \u001b[0;36mcanny_edge_detector\u001b[1;34m(img, sobel_filter, gauss_sigma, gauss_filter_shape, verbose)\u001b[0m\n\u001b[0;32m      7\u001b[0m canny_edges_img \u001b[38;5;241m=\u001b[39m non_max_suppression(sobel_edges_img, theta)\n\u001b[0;32m      9\u001b[0m \u001b[38;5;28;01mif\u001b[39;00m verbose:\n\u001b[1;32m---> 10\u001b[0m     \u001b[43mshow_image\u001b[49m\u001b[43m(\u001b[49m\u001b[43mcanny_edges_img\u001b[49m\u001b[43m,\u001b[49m\u001b[43m \u001b[49m\u001b[43mimg_name\u001b[49m\u001b[38;5;241;43m=\u001b[39;49m\u001b[38;5;124;43m\"\u001b[39;49m\u001b[38;5;124;43mCanny Edges\u001b[39;49m\u001b[38;5;124;43m\"\u001b[39;49m\u001b[43m)\u001b[49m\n\u001b[0;32m     12\u001b[0m \u001b[38;5;28;01mreturn\u001b[39;00m canny_edges_img\n",
      "Cell \u001b[1;32mIn[6], line 4\u001b[0m, in \u001b[0;36mshow_image\u001b[1;34m(img, img_name)\u001b[0m\n\u001b[0;32m      2\u001b[0m \u001b[38;5;28;01mdef\u001b[39;00m \u001b[38;5;21mshow_image\u001b[39m(img: np\u001b[38;5;241m.\u001b[39marray, img_name: \u001b[38;5;28mstr\u001b[39m \u001b[38;5;241m=\u001b[39m \u001b[38;5;124m\"\u001b[39m\u001b[38;5;124mImage\u001b[39m\u001b[38;5;124m\"\u001b[39m):\n\u001b[0;32m      3\u001b[0m     cv2\u001b[38;5;241m.\u001b[39mimshow(img_name, img)\n\u001b[1;32m----> 4\u001b[0m     \u001b[43mcv2\u001b[49m\u001b[38;5;241;43m.\u001b[39;49m\u001b[43mwaitKey\u001b[49m\u001b[43m(\u001b[49m\u001b[38;5;241;43m0\u001b[39;49m\u001b[43m)\u001b[49m\n\u001b[0;32m      5\u001b[0m     cv2\u001b[38;5;241m.\u001b[39mdestroyAllWindows()\n",
      "\u001b[1;31mKeyboardInterrupt\u001b[0m: "
     ]
    }
   ],
   "source": [
    "# TODO Define Sobel filter\n",
    "sobel_filter = np.array([[-1, 0, 1], [-2, 0, 2], [-1, 0, 1]])\n",
    "\n",
    "# TODO Define a sigma value for Gauss\n",
    "gauss_sigma = 1\n",
    "\n",
    "# TODO Define a Gauss filter shape\n",
    "gauss_filter_shape = [-5, 5]\n",
    "\n",
    "# TODO Get the edges detected by Canny using a list comprehension\n",
    "canny_edges = [canny_edge_detector(img, sobel_filter, gauss_sigma, verbose = True) for img in imgs]"
   ]
  },
  {
   "cell_type": "markdown",
   "metadata": {},
   "source": [
    "### **Pregunta B.1:** Añada ruido a las imágenes de la carpeta ``data``. Compare los resultados que obtiene al aplicar su filtro Sobel con y sin filtro Gausiano."
   ]
  },
  {
   "cell_type": "code",
   "execution_count": null,
   "metadata": {},
   "outputs": [],
   "source": [
    "# TODO Homework"
   ]
  },
  {
   "cell_type": "markdown",
   "metadata": {},
   "source": [
    "### **Pregunta B.2:** Utilice la librería ``scikit-image`` y compare el efecto de los filtros Sobel, Canny y Prewitt sobre las imágenes de la carpeta ``data``. ¿Qué diferencias observa entre los filtros? ¿Puede obtener alguna conclusión y/o patrón?"
   ]
  },
  {
   "cell_type": "code",
   "execution_count": null,
   "metadata": {},
   "outputs": [],
   "source": [
    "# TODO Homework"
   ]
  },
  {
   "cell_type": "markdown",
   "metadata": {},
   "source": [
    "## **Apartado C (Opcional):** Operadores Morfológicos"
   ]
  },
  {
   "cell_type": "markdown",
   "metadata": {},
   "source": [
    "Para resolver este partado, deberá seguir los siguientes pasos:\n",
    "\n",
    "1. **Tarea C.1.** Defina el método ``binarize()`` para binarizar imágenes.\n",
    "2. **Tarea C.2.** Defina el método ``custom_dilate()``.\n",
    "3. **Tarea C.3.** Defina el método ``custom_erode()``.\n",
    "4. **Pregunta C.1** Aplique los métodos ``custom_dilate()`` y ``custom_erode()`` a todas las imágenes de la carpeta ``data``.\n"
   ]
  },
  {
   "cell_type": "markdown",
   "metadata": {},
   "source": [
    "### **Tarea C.1.** Defina el método ``binarize()`` para binarizar imágenes."
   ]
  },
  {
   "cell_type": "code",
   "execution_count": 46,
   "metadata": {},
   "outputs": [
    {
     "data": {
      "text/plain": [
       "[None, None, None, None, None, None]"
      ]
     },
     "execution_count": 46,
     "metadata": {},
     "output_type": "execute_result"
    }
   ],
   "source": [
    "# TODO Homework: define the binarization method\n",
    "def binarize(img: np.array, mode:str = \"Threshold\", threshold: int = 127):\n",
    "    \n",
    "    gray_img = cv2.cvtColor(img, cv2.COLOR_BGR2GRAY)\n",
    "    \n",
    "    if mode != \"Threshold\":\n",
    "        _, blurry_img = gaussian_blur(gray_img, 1, [-7, 7])\n",
    "        _, binary_img = cv2.threshold(blurry_img, 0.0, 255.0, cv2.THRESH_BINARY+cv2.THRESH_OTSU)\n",
    "        \n",
    "    else: # Much better work than Otsu\n",
    "        _, binary_img = cv2.threshold(gray_img, threshold ,255,cv2.THRESH_BINARY)\n",
    "    \n",
    "    return binary_img\n",
    "\n",
    "# [show_image(binarize(img)) for img in imgs]"
   ]
  },
  {
   "cell_type": "markdown",
   "metadata": {},
   "source": [
    "### **Tarea C.2.** Defina el método ``custom_dilate()``"
   ]
  },
  {
   "cell_type": "code",
   "execution_count": 60,
   "metadata": {},
   "outputs": [
    {
     "data": {
      "text/plain": [
       "[None, None, None, None, None, None]"
      ]
     },
     "execution_count": 60,
     "metadata": {},
     "output_type": "execute_result"
    }
   ],
   "source": [
    "# TODO Homework: define the dilation method\n",
    "def custom_dilate(img: np.ndarray):\n",
    "    # TODO pad the original image so it can keep dimensions after processing\n",
    "    padded = np.pad(img, pad_width=1, mode='constant', constant_values=0)\n",
    "\n",
    "    # TODO get img shape\n",
    "    height, width = img.shape\n",
    "\n",
    "    # TODO Create an element with the same dimensions as the padded img\n",
    "    dilated = np.zeros_like(padded)\n",
    "\n",
    "    for j in range(1, height + 1):\n",
    "        for i in range(1, width + 1):\n",
    "            # TODO Add logic to the operation\n",
    "            dilated[j, i] = max([padded[j_p, i_p] for j_p in range(j-1, j+2) for i_p in range(i-1, i+2)])\n",
    "            \n",
    "    # TODO Select the region of interest (ROI). Modify if needed\n",
    "    dilated = dilated[1:height+1, 1:width+1]\n",
    "    \n",
    "    return dilated\n",
    "\n",
    "[show_image(custom_dilate(binarize(img))) for img in imgs]"
   ]
  },
  {
   "cell_type": "markdown",
   "metadata": {},
   "source": [
    "### **Tarea C.3.** Defina el método ``custom_erode()``"
   ]
  },
  {
   "cell_type": "code",
   "execution_count": 61,
   "metadata": {},
   "outputs": [
    {
     "data": {
      "text/plain": [
       "[None, None, None, None, None, None]"
      ]
     },
     "execution_count": 61,
     "metadata": {},
     "output_type": "execute_result"
    }
   ],
   "source": [
    "# TODO Homework: define the erotion method\n",
    "def custom_erode(img: np.ndarray):\n",
    "    # TODO pad the original image so it can keep dimensions after processing\n",
    "    padded = np.pad(img, pad_width=1, mode='constant', constant_values=255)\n",
    "\n",
    "    # TODO get img shape\n",
    "    height, width = img.shape\n",
    "\n",
    "    # TODO Create an element with the same dimensions as the padded img\n",
    "    eroded = np.zeros_like(padded)\n",
    "\n",
    "    for j in range(1, height + 1):\n",
    "        for i in range(1, width + 1):\n",
    "            # TODO Add logic to the operation\n",
    "            eroded[j, i] = min([padded[j_p, i_p] for j_p in range(j-1, j+2) for i_p in range(i-1, i+2)])\n",
    "            \n",
    "    # TODO Select the region of interest (ROI). Modify if needed\n",
    "    eroded = eroded[1:height+1, 1:width+1]\n",
    "    \n",
    "    return eroded\n",
    "\n",
    "[show_image(custom_erode(binarize(img))) for img in imgs]"
   ]
  },
  {
   "cell_type": "markdown",
   "metadata": {},
   "source": [
    "### **Pregunta C.1** Aplique los métodos ``custom_dilate()`` y ``custom_erode()`` a todas las imágenes de la carpeta ``data``."
   ]
  },
  {
   "cell_type": "code",
   "execution_count": null,
   "metadata": {},
   "outputs": [],
   "source": [
    "# TODO Homework"
   ]
  }
 ],
 "metadata": {
  "kernelspec": {
   "display_name": "Python 3",
   "language": "python",
   "name": "python3"
  },
  "language_info": {
   "codemirror_mode": {
    "name": "ipython",
    "version": 3
   },
   "file_extension": ".py",
   "mimetype": "text/x-python",
   "name": "python",
   "nbconvert_exporter": "python",
   "pygments_lexer": "ipython3",
   "version": "3.11.7"
  }
 },
 "nbformat": 4,
 "nbformat_minor": 2
}
