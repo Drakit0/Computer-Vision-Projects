{
 "cells": [
  {
   "cell_type": "markdown",
   "metadata": {},
   "source": [
    "# **Sesión 3: Procesamiento Avanzado de Imágenes** ⚙️🖼️"
   ]
  },
  {
   "cell_type": "markdown",
   "metadata": {},
   "source": [
    "## **Librerías**"
   ]
  },
  {
   "cell_type": "code",
   "execution_count": 8,
   "metadata": {},
   "outputs": [],
   "source": [
    "import cv2\n",
    "import os\n",
    "import glob\n",
    "import numpy as np"
   ]
  },
  {
   "cell_type": "markdown",
   "metadata": {},
   "source": [
    "## **Apartado B:** Detección de lineas rectas\n",
    "El objetivo de este apartado es la detección de líneas y bordes en las imágenes de la carpeta `data`.\n",
    "1. **Tarea B.1.** Aplique `cv2.Canny()` a las imágenes de trabajo ajustando los hiperparámetros.\n",
    "3. **Tarea B.2.** Implemente la función `draw_lines()` para pintar las líneas sobre las imágenes.\n",
    "4. **Tarea B.3.** Aplique Hough con `cv2.HoughLinesP()` a las imágenes de trabajo para extraer líneas y afine los hiperparámetros.\n",
    "5. **Problema B.1.** Repita el procedimiento para extraer las líneas de las dos imágenes restantes."
   ]
  },
  {
   "cell_type": "markdown",
   "metadata": {},
   "source": [
    "### **NOTA**\n",
    "Podéis usar el mismo formato de guardado de resultados y nomenclatura que en partA o hacer uso de la funcion `show_image()` del Lab 2. Usad las herramientas con las que os sintáis más cómodos"
   ]
  },
  {
   "cell_type": "code",
   "execution_count": null,
   "metadata": {},
   "outputs": [],
   "source": [
    "folder_name = \"processed_data/partB\"\n",
    "folder_path = os.path.join(\"data\", folder_name)\n",
    "os.makedirs(folder_path, exist_ok=True)"
   ]
  },
  {
   "cell_type": "code",
   "execution_count": 10,
   "metadata": {},
   "outputs": [],
   "source": [
    "def opencv_load_images(filenames: list) -> list:\n",
    "    '''\n",
    "    Load images cv2.imread function (BGR)\n",
    "    '''\n",
    "    return [cv2.imread(filename) for filename in filenames]\n",
    "\n",
    "\n",
    "source_paths = [path for path in glob.glob(\"data/source/*\")]\n",
    "imgs = opencv_load_images(source_paths)"
   ]
  },
  {
   "cell_type": "markdown",
   "metadata": {},
   "source": [
    "### **Tarea B.1.** Aplique `cv2.Canny()` a las imágenes de trabajo ajustando los hiperparámetros"
   ]
  },
  {
   "cell_type": "code",
   "execution_count": 11,
   "metadata": {},
   "outputs": [
    {
     "data": {
      "text/plain": [
       "True"
      ]
     },
     "execution_count": 11,
     "metadata": {},
     "output_type": "execute_result"
    }
   ],
   "source": [
    "# TODO Apply canny to the images, play with the thresholds to get a good result\n",
    "\n",
    "# 1st image\n",
    "\n",
    "name_img = \"geometry\"\n",
    "\n",
    "# Hyperparameters\n",
    "low_threshold = 100\n",
    "high_threshold = 200\n",
    "\n",
    "# get the first image\n",
    "img = imgs[0]\n",
    "\n",
    "# Convert to grayscale\n",
    "gray_img = cv2.cvtColor(img, cv2.COLOR_BGR2GRAY)\n",
    "\n",
    "# Apply Canny edge detection\n",
    "edge_img = cv2.Canny(gray_img, low_threshold, high_threshold)\n",
    "\n",
    "# Store the edge image for later Hough transform\n",
    "geometry_edges = edge_img\n",
    "\n",
    "# Display the image or save it as you like\n",
    "cv2.imwrite(folder_path + f\"/canny_{name_img}.png\", edge_img)\n",
    "\n",
    "# 2nd image\n",
    "name_img = \"football\"\n",
    "\n",
    "# Hyperparameters\n",
    "low_threshold = 100\n",
    "high_threshold = 200\n",
    "\n",
    "# get the first image\n",
    "img = imgs[1]\n",
    "\n",
    "# Convert to grayscale\n",
    "gray_img = cv2.cvtColor(img, cv2.COLOR_BGR2GRAY)\n",
    "\n",
    "# Apply Canny edge detection\n",
    "edge_img = cv2.Canny(gray_img, low_threshold, high_threshold)\n",
    "\n",
    "# Store the edge image for later Hough transform\n",
    "football_edges = edge_img\n",
    "\n",
    "# Display the image or save it as you like\n",
    "cv2.imwrite(folder_path + f\"/canny_{name_img}.png\", edge_img)"
   ]
  },
  {
   "cell_type": "markdown",
   "metadata": {},
   "source": [
    "### **Tarea B.2.** Implemente `draw_lines()` para pintar las lineas sobre cada imagen"
   ]
  },
  {
   "cell_type": "code",
   "execution_count": 12,
   "metadata": {},
   "outputs": [],
   "source": [
    "# TODO Draw the lines on the images. A line is a tuple of 4 integers (x1, y1, x2, y2) where (x1, y1) and (x2, y2) are the coordinates of the two points of the line.\n",
    "def draw_lines(img, lines, color, thickness):\n",
    "    for line in lines:\n",
    "        x1, y1, x2, y2 = line[0]\n",
    "        cv2.line(img, (x1, y1), (x2, y2), color, thickness)"
   ]
  },
  {
   "cell_type": "markdown",
   "metadata": {},
   "source": [
    "### **Tarea B.3.** Aplique Hough con `cv2.HoughLinesP()` a las imágenes de trabajo para extraer líneas y afine los hiperparámetros"
   ]
  },
  {
   "cell_type": "code",
   "execution_count": 13,
   "metadata": {},
   "outputs": [],
   "source": [
    "# TODO Apply the hough transform to the images, play with the parameters to get a good result\n",
    "\n",
    "# 1st image\n",
    "name_img = \"geometry\"\n",
    "\n",
    "# Define the hough transform parameters\n",
    "rho = 1\n",
    "theta = np.pi / 180\n",
    "threshold = 0\n",
    "min_line_length = 8\n",
    "max_line_gap = 5\n",
    "\n",
    "# Get the edge image\n",
    "edges = geometry_edges.copy()\n",
    "# img = cv2.cvtColor(imgs[0], cv2.COLOR_BGR2GRAY).copy()\n",
    "\n",
    "# Apply the hough transform\n",
    "lines = cv2.HoughLinesP(edges, rho, theta, threshold, minLineLength = min_line_length, maxLineGap = max_line_gap)\n",
    "\n",
    "img = imgs[0].copy()\n",
    "\n",
    "# Draw the lines on the image (on the original image, make sure to get a copy, as draw_lines modifies the image)\n",
    "draw_lines(img, lines, (255, 0, 0), 2)\n",
    "\n",
    "# Show the image or save it as you like\n",
    "cv2.imshow(\"Hough Transform\", img)\n",
    "cv2.waitKey(0)\n",
    "cv2.destroyAllWindows()\n",
    "\n",
    "# 2nd image\n",
    "name_img = \"football\"\n",
    "\n",
    "# Define the hough transform parameters\n",
    "rho = 1\n",
    "theta = np.pi / 180\n",
    "threshold = 0\n",
    "min_line_length = 20\n",
    "max_line_gap = 10\n",
    "\n",
    "# Get the edge image\n",
    "edges = football_edges.copy()\n",
    "\n",
    "# Apply the hough transform\n",
    "lines = cv2.HoughLinesP(edges, rho, theta, threshold, minLineLength = min_line_length, maxLineGap = max_line_gap)\n",
    "\n",
    "img = imgs[1].copy()\n",
    "\n",
    "# Draw the lines on the image (on the original image, make sure to get a copy, as draw_lines modifies the image)\n",
    "draw_lines(img, lines, (255, 0, 0), 2)\n",
    "\n",
    "# Show the image or save it as you like\n",
    "cv2.imshow(\"Hough Transform\", img)\n",
    "cv2.waitKey(0)\n",
    "cv2.destroyAllWindows()"
   ]
  },
  {
   "cell_type": "markdown",
   "metadata": {},
   "source": [
    "### **Problema B.1.** Repita el procedimiento para extraer las líneas de las dos imágenes restantes"
   ]
  },
  {
   "cell_type": "code",
   "execution_count": 14,
   "metadata": {},
   "outputs": [],
   "source": [
    "# TODO Homework"
   ]
  }
 ],
 "metadata": {
  "kernelspec": {
   "display_name": "Python 3",
   "language": "python",
   "name": "python3"
  },
  "language_info": {
   "codemirror_mode": {
    "name": "ipython",
    "version": 3
   },
   "file_extension": ".py",
   "mimetype": "text/x-python",
   "name": "python",
   "nbconvert_exporter": "python",
   "pygments_lexer": "ipython3",
   "version": "3.11.7"
  }
 },
 "nbformat": 4,
 "nbformat_minor": 2
}
